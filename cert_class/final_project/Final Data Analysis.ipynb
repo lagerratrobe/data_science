{
 "cells": [
  {
   "cell_type": "code",
   "execution_count": 17,
   "metadata": {},
   "outputs": [],
   "source": [
    "import pandas as pd\n",
    "import sqlite3\n",
    "%matplotlib inline\n",
    "import seaborn as sb\n",
    "import ipywidgets\n",
    "import traitlets"
   ]
  },
  {
   "cell_type": "code",
   "execution_count": 2,
   "metadata": {
    "collapsed": true
   },
   "outputs": [],
   "source": [
    "conn = sqlite3.connect('final_project.db')\n",
    "sales = pd.read_sql_query('select * from new_sales;', conn)"
   ]
  },
  {
   "cell_type": "code",
   "execution_count": 3,
   "metadata": {},
   "outputs": [
    {
     "data": {
      "text/html": [
       "<div>\n",
       "<style>\n",
       "    .dataframe thead tr:only-child th {\n",
       "        text-align: right;\n",
       "    }\n",
       "\n",
       "    .dataframe thead th {\n",
       "        text-align: left;\n",
       "    }\n",
       "\n",
       "    .dataframe tbody tr th {\n",
       "        vertical-align: top;\n",
       "    }\n",
       "</style>\n",
       "<table border=\"1\" class=\"dataframe\">\n",
       "  <thead>\n",
       "    <tr style=\"text-align: right;\">\n",
       "      <th></th>\n",
       "      <th>purchase_date</th>\n",
       "      <th>order_status</th>\n",
       "      <th>product_name</th>\n",
       "      <th>quantity</th>\n",
       "      <th>currency</th>\n",
       "      <th>item_price</th>\n",
       "      <th>promotion_id</th>\n",
       "      <th>discount</th>\n",
       "      <th>city</th>\n",
       "      <th>state</th>\n",
       "      <th>postcode</th>\n",
       "      <th>country</th>\n",
       "      <th>product_code</th>\n",
       "      <th>size</th>\n",
       "      <th>gid</th>\n",
       "    </tr>\n",
       "  </thead>\n",
       "  <tbody>\n",
       "    <tr>\n",
       "      <th>0</th>\n",
       "      <td>2017-10-01T06:57:00</td>\n",
       "      <td>Shipped</td>\n",
       "      <td>Nonscents Odor Control Cat Litter Deodorizer</td>\n",
       "      <td>1</td>\n",
       "      <td>USD</td>\n",
       "      <td>10.99</td>\n",
       "      <td></td>\n",
       "      <td>0.0</td>\n",
       "      <td>Bussey</td>\n",
       "      <td>ia</td>\n",
       "      <td>50044</td>\n",
       "      <td>US</td>\n",
       "      <td>7</td>\n",
       "      <td>16oz</td>\n",
       "      <td>None</td>\n",
       "    </tr>\n",
       "    <tr>\n",
       "      <th>1</th>\n",
       "      <td>2017-10-01T06:51:50</td>\n",
       "      <td>Cancelled</td>\n",
       "      <td>Nonscents Odor Control Cat Litter Deodorizer</td>\n",
       "      <td>0</td>\n",
       "      <td>USD</td>\n",
       "      <td>0.00</td>\n",
       "      <td></td>\n",
       "      <td>0.0</td>\n",
       "      <td>BAYPORT</td>\n",
       "      <td>NY</td>\n",
       "      <td>11705-1754</td>\n",
       "      <td>US</td>\n",
       "      <td>7</td>\n",
       "      <td>16oz</td>\n",
       "      <td>None</td>\n",
       "    </tr>\n",
       "  </tbody>\n",
       "</table>\n",
       "</div>"
      ],
      "text/plain": [
       "         purchase_date order_status  \\\n",
       "0  2017-10-01T06:57:00      Shipped   \n",
       "1  2017-10-01T06:51:50    Cancelled   \n",
       "\n",
       "                                   product_name  quantity currency  \\\n",
       "0  Nonscents Odor Control Cat Litter Deodorizer         1      USD   \n",
       "1  Nonscents Odor Control Cat Litter Deodorizer         0      USD   \n",
       "\n",
       "   item_price promotion_id  discount     city state    postcode country  \\\n",
       "0       10.99                    0.0   Bussey    ia       50044      US   \n",
       "1        0.00                    0.0  BAYPORT    NY  11705-1754      US   \n",
       "\n",
       "   product_code  size   gid  \n",
       "0             7  16oz  None  \n",
       "1             7  16oz  None  "
      ]
     },
     "execution_count": 3,
     "metadata": {},
     "output_type": "execute_result"
    }
   ],
   "source": [
    "sales.head(2)"
   ]
  },
  {
   "cell_type": "code",
   "execution_count": 4,
   "metadata": {},
   "outputs": [
    {
     "name": "stdout",
     "output_type": "stream",
     "text": [
      "<class 'pandas.core.frame.DataFrame'>\n",
      "RangeIndex: 17925 entries, 0 to 17924\n",
      "Data columns (total 15 columns):\n",
      "purchase_date    17925 non-null object\n",
      "order_status     17925 non-null object\n",
      "product_name     17925 non-null object\n",
      "quantity         17925 non-null int64\n",
      "currency         17925 non-null object\n",
      "item_price       17925 non-null float64\n",
      "promotion_id     17925 non-null object\n",
      "discount         17925 non-null float64\n",
      "city             17925 non-null object\n",
      "state            17925 non-null object\n",
      "postcode         17925 non-null object\n",
      "country          17925 non-null object\n",
      "product_code     17925 non-null int64\n",
      "size             17925 non-null object\n",
      "gid              0 non-null object\n",
      "dtypes: float64(2), int64(2), object(11)\n",
      "memory usage: 2.1+ MB\n"
     ]
    }
   ],
   "source": [
    "sales.info()"
   ]
  },
  {
   "cell_type": "code",
   "execution_count": 5,
   "metadata": {},
   "outputs": [
    {
     "data": {
      "text/html": [
       "<div>\n",
       "<style>\n",
       "    .dataframe thead tr:only-child th {\n",
       "        text-align: right;\n",
       "    }\n",
       "\n",
       "    .dataframe thead th {\n",
       "        text-align: left;\n",
       "    }\n",
       "\n",
       "    .dataframe tbody tr th {\n",
       "        vertical-align: top;\n",
       "    }\n",
       "</style>\n",
       "<table border=\"1\" class=\"dataframe\">\n",
       "  <thead>\n",
       "    <tr style=\"text-align: right;\">\n",
       "      <th></th>\n",
       "      <th>cost</th>\n",
       "      <th>clicks</th>\n",
       "      <th>avg</th>\n",
       "      <th>date</th>\n",
       "    </tr>\n",
       "  </thead>\n",
       "  <tbody>\n",
       "    <tr>\n",
       "      <th>0</th>\n",
       "      <td>195.79</td>\n",
       "      <td>284</td>\n",
       "      <td>0.69</td>\n",
       "      <td>2017-07-01</td>\n",
       "    </tr>\n",
       "    <tr>\n",
       "      <th>1</th>\n",
       "      <td>197.27</td>\n",
       "      <td>289</td>\n",
       "      <td>0.68</td>\n",
       "      <td>2017-07-02</td>\n",
       "    </tr>\n",
       "  </tbody>\n",
       "</table>\n",
       "</div>"
      ],
      "text/plain": [
       "     cost  clicks   avg        date\n",
       "0  195.79     284  0.69  2017-07-01\n",
       "1  197.27     289  0.68  2017-07-02"
      ]
     },
     "execution_count": 5,
     "metadata": {},
     "output_type": "execute_result"
    }
   ],
   "source": [
    "# Get the Adwords data loaded\n",
    "\n",
    "adwords = pd.read_sql_query(\"select * from new_adwords;\", conn)\n",
    "adwords.head(2)"
   ]
  },
  {
   "cell_type": "code",
   "execution_count": 6,
   "metadata": {
    "collapsed": true
   },
   "outputs": [],
   "source": [
    "# Close the DB Connection\n",
    "conn.close()"
   ]
  },
  {
   "cell_type": "code",
   "execution_count": 7,
   "metadata": {},
   "outputs": [
    {
     "name": "stdout",
     "output_type": "stream",
     "text": [
      "<class 'pandas.core.frame.DataFrame'>\n",
      "RangeIndex: 136 entries, 0 to 135\n",
      "Data columns (total 4 columns):\n",
      "cost      136 non-null float64\n",
      "clicks    136 non-null int64\n",
      "avg       136 non-null float64\n",
      "date      136 non-null object\n",
      "dtypes: float64(2), int64(1), object(1)\n",
      "memory usage: 4.3+ KB\n"
     ]
    },
    {
     "data": {
      "text/html": [
       "<div>\n",
       "<style>\n",
       "    .dataframe thead tr:only-child th {\n",
       "        text-align: right;\n",
       "    }\n",
       "\n",
       "    .dataframe thead th {\n",
       "        text-align: left;\n",
       "    }\n",
       "\n",
       "    .dataframe tbody tr th {\n",
       "        vertical-align: top;\n",
       "    }\n",
       "</style>\n",
       "<table border=\"1\" class=\"dataframe\">\n",
       "  <thead>\n",
       "    <tr style=\"text-align: right;\">\n",
       "      <th></th>\n",
       "      <th>cost</th>\n",
       "      <th>clicks</th>\n",
       "      <th>avg</th>\n",
       "      <th>date</th>\n",
       "    </tr>\n",
       "  </thead>\n",
       "  <tbody>\n",
       "    <tr>\n",
       "      <th>0</th>\n",
       "      <td>195.79</td>\n",
       "      <td>284</td>\n",
       "      <td>0.69</td>\n",
       "      <td>2017-07-01</td>\n",
       "    </tr>\n",
       "    <tr>\n",
       "      <th>1</th>\n",
       "      <td>197.27</td>\n",
       "      <td>289</td>\n",
       "      <td>0.68</td>\n",
       "      <td>2017-07-02</td>\n",
       "    </tr>\n",
       "    <tr>\n",
       "      <th>2</th>\n",
       "      <td>193.24</td>\n",
       "      <td>278</td>\n",
       "      <td>0.70</td>\n",
       "      <td>2017-07-03</td>\n",
       "    </tr>\n",
       "    <tr>\n",
       "      <th>3</th>\n",
       "      <td>180.57</td>\n",
       "      <td>261</td>\n",
       "      <td>0.69</td>\n",
       "      <td>2017-07-04</td>\n",
       "    </tr>\n",
       "    <tr>\n",
       "      <th>4</th>\n",
       "      <td>222.57</td>\n",
       "      <td>319</td>\n",
       "      <td>0.70</td>\n",
       "      <td>2017-07-05</td>\n",
       "    </tr>\n",
       "  </tbody>\n",
       "</table>\n",
       "</div>"
      ],
      "text/plain": [
       "     cost  clicks   avg        date\n",
       "0  195.79     284  0.69  2017-07-01\n",
       "1  197.27     289  0.68  2017-07-02\n",
       "2  193.24     278  0.70  2017-07-03\n",
       "3  180.57     261  0.69  2017-07-04\n",
       "4  222.57     319  0.70  2017-07-05"
      ]
     },
     "execution_count": 7,
     "metadata": {},
     "output_type": "execute_result"
    }
   ],
   "source": [
    "adwords.info()\n",
    "adwords.head()"
   ]
  },
  {
   "cell_type": "code",
   "execution_count": 20,
   "metadata": {
    "scrolled": false
   },
   "outputs": [
    {
     "data": {
      "text/plain": [
       "<seaborn.axisgrid.FacetGrid at 0x767ff6e53a10>"
      ]
     },
     "execution_count": 20,
     "metadata": {},
     "output_type": "execute_result"
    },
    {
     "data": {
      "image/png": "[encoded data removed]",
      "text/plain": [
       "<matplotlib.figure.Figure at 0x767ff6e3a950>"
      ]
     },
     "metadata": {},
     "output_type": "display_data"
    }
   ],
   "source": [
    "sb.lmplot(data = adwords, x=\"date\", y=\"clicks\", fit_reg=False, size = 7)"
   ]
  }
 ],
 "metadata": {
  "kernelspec": {
   "display_name": "Python 2",
   "language": "python",
   "name": "python2"
  },
  "language_info": {
   "codemirror_mode": {
    "name": "ipython",
    "version": 2
   },
   "file_extension": ".py",
   "mimetype": "text/x-python",
   "name": "python",
   "nbconvert_exporter": "python",
   "pygments_lexer": "ipython2",
   "version": "2.7.13"
  }
 },
 "nbformat": 4,
 "nbformat_minor": 2
}
