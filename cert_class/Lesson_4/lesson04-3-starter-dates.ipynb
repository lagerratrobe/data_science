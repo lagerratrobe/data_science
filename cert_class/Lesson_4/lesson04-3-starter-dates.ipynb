{
 "cells": [
  {
   "cell_type": "markdown",
   "metadata": {
    "deletable": true,
    "editable": true
   },
   "source": [
    "# Parsing Dates\n",
    "Dates can have much more variety as compared to numbers. In this exercise you will explore the fundamental date functions you can use for data wrangling. You will use the tidyverse package lubridate. It isn't loaded as part of the tidyverse library so you will need to load it with separate library statements.\n",
    "\n",
    "The lubridate package contains many functions for parsing strings into dates as well as the manipulation of dates after they are in a date data type. Many string forms of dates can be handled by a lubridate function. If the string form doesn't conform to any of the lubridate functions then you may need to perform generic string manipulation using the stringr functions first and then pass that result into a lubridate function.\n",
    "\n",
    "## R Features\n",
    "* library()\n",
    "* today()\n",
    "* now()\n",
    "* data_frame()\n",
    "* c()\n",
    "* glimpse()\n",
    "* mutate()\n",
    "* ymd()\n",
    "* mdy()\n",
    "* dmy()\n",
    "* ymd_hms()\n",
    "* mdy_hms()\n",
    "* ymd_hm()\n",
    "* hms()\n",
    "* year()\n",
    "* month()\n",
    "* day()\n",
    "* make_date()\n",
    "* as_date()\n",
    "* as_datetime()\n",
    "\n",
    "## Datasets\n",
    "* mpg\n"
   ]
  },
  {
   "cell_type": "code",
   "execution_count": null,
   "metadata": {
    "collapsed": false,
    "deletable": true,
    "editable": true,
    "scrolled": false
   },
   "outputs": [],
   "source": [
    "# Load libraries\n",
    "___(___)  # lubridate\n",
    "___(___)  # tidyverse\n"
   ]
  },
  {
   "cell_type": "markdown",
   "metadata": {
    "deletable": true,
    "editable": true
   },
   "source": [
    "## Lubridate package\n",
    "* %m+%                    Add and subtract months to a date without exceeding the last day of the new month\n",
    "* %within%                Tests whether a date or interval falls within an interval\n",
    "* DateUpdate              Changes the components of a date object\n",
    "* Duration-class          Duration class\n",
    "* Interval-class          Interval class\n",
    "* Period-class            Period class\n",
    "* Timespan-class          Timespan class\n",
    "* am                      Does date time occur in the am or pm?\n",
    "* as.duration             Change an object to a duration.\n",
    "* as.interval             Change an object to an 'interval'.\n",
    "* as.period               Change an object to a period.\n",
    "* as_date                 Convert an object to a date or date-time\n",
    "* date                    Get/set Date component of a date-time.\n",
    "* date_decimal            Converts a decimal to a date.\n",
    "* day                     Get/set days component of a date-time.\n",
    "* days_in_month           Get the number of days in the month of a date-time.\n",
    "* decimal_date            Converts a date to a decimal of its year.\n",
    "* dst                     Get Daylight Savings Time indicator of a date-time.\n",
    "* duration                Create a duration object.\n",
    "* fit_to_timeline         Fit a POSIXlt date-time to the timeline\n",
    "* force_tz                Replace time zone to create new date-time\n",
    "* guess_formats           Guess formats from the supplied date-time character vector.\n",
    "* hour                    Get/set hours component of a date-time.\n",
    "* interval                Utilities for creation and manipulation of 'Interval' objects.\n",
    "* is.Date                 Is x a Date object?\n",
    "* is.POSIXt               Is x a POSIXct or POSIXlt object?\n",
    "* is.difftime             Is x a difftime object?\n",
    "* is.instant              Is x a date-time object?\n",
    "* is.timespan             Is x a length of time?\n",
    "* lakers                  Lakers 2008-2009 basketball data set\n",
    "* leap_year               Is a year a leap year?\n",
    "* lubridate-package       Dates and times made easy with lubridate\n",
    "* make_datetime           Efficient creation of date-times from numeric representations\n",
    "* make_difftime           Create a difftime object.\n",
    "* minute                  Get/set minutes component of a date-time.\n",
    "* month                   Get/set months component of a date-time.\n",
    "* ms                      Create a period with the specified hours, minutes, and seconds\n",
    "* now                     The current time\n",
    "* origin                  1970-01-01 UTC\n",
    "* parse_date_time         Parse character and numeric date-time vectors with user friendly order formats.\n",
    "* period                  Create a period object.\n",
    "* period_to_seconds       Contrive a period to/from a given number of seconds.\n",
    "* pretty_dates            Computes attractive axis breaks for date-time data\n",
    "* quarter                 Get the fiscal quarter and semester of a date-time.\n",
    "* quick_durations         Quickly create duration objects.\n",
    "* quick_periods           Quickly create period objects.\n",
    "* rollback                Roll back date to last day of previous month\n",
    "* round_date              Round, floor and ceiling methods for date-time objects.\n",
    "* second                  Get/set seconds component of a date-time.\n",
    "* stamp                   Format dates and times based on human-friendly templates.\n",
    "* time_length             Compute the exact length of a time span.\n",
    "* timespan                Description of time span classes in lubridate.\n",
    "* today                   The current date\n",
    "* tz                      Get/set time zone component of a date-time.\n",
    "* week                    Get/set weeks component of a date-time.\n",
    "* with_tz                 Get date-time in a different time zone\n",
    "* year                    Get/set years component of a date-time.\n",
    "* ymd                     Parse dates according to the order in that year, month, and day elements appear in the input vector.\n",
    "* ymd_hms                 Parse dates that have hours, minutes, or seconds elements."
   ]
  },
  {
   "cell_type": "code",
   "execution_count": null,
   "metadata": {
    "collapsed": false,
    "deletable": true,
    "editable": true
   },
   "outputs": [],
   "source": [
    "# Use library(help = \"package\")\n",
    "# to see the functions\n",
    "library(help = \"___\")"
   ]
  },
  {
   "cell_type": "markdown",
   "metadata": {
    "deletable": true,
    "editable": true
   },
   "source": [
    "## today()\n",
    "The current date. \n",
    "### Usage\n",
    "today(tzone = \"\")"
   ]
  },
  {
   "cell_type": "code",
   "execution_count": null,
   "metadata": {
    "collapsed": false,
    "deletable": true,
    "editable": true
   },
   "outputs": [],
   "source": [
    "# View help on today()\n",
    "?___\n",
    "\n",
    "# Execute today()\n",
    "___()"
   ]
  },
  {
   "cell_type": "markdown",
   "metadata": {
    "deletable": true,
    "editable": true
   },
   "source": [
    "## now()\n",
    "The current time. \n",
    "### Usage\n",
    "now(tzone = \"\")"
   ]
  },
  {
   "cell_type": "code",
   "execution_count": null,
   "metadata": {
    "collapsed": false,
    "deletable": true,
    "editable": true
   },
   "outputs": [],
   "source": [
    "# View help on now()\n",
    "?___\n",
    "\n",
    "# Execute now()\n",
    "___()"
   ]
  },
  {
   "cell_type": "markdown",
   "metadata": {
    "collapsed": false,
    "deletable": true,
    "editable": true
   },
   "source": [
    "## ymd()\n",
    "Parse dates according to the order in that year, month, and day elements appear in the input vector. Transforms dates stored in character and numeric vectors to Date or POSIXct objects (see tz argument). These functions recognize arbitrary non-digit separators as well as no separator. As long as the order of formats is correct, these functions will parse dates correctly even when the input vectors contain differently formatted dates.\n",
    "### Usage\n",
    "* ymd(..., quiet = FALSE, tz = NULL, locale = Sys.getlocale(\"LC_TIME\"),\n",
    "  truncated = 0)\n",
    "\n",
    "* ydm(..., quiet = FALSE, tz = NULL, locale = Sys.getlocale(\"LC_TIME\"),\n",
    "  truncated = 0)\n",
    "\n",
    "* mdy(..., quiet = FALSE, tz = NULL, locale = Sys.getlocale(\"LC_TIME\"),\n",
    "  truncated = 0)\n",
    "\n",
    "* myd(..., quiet = FALSE, tz = NULL, locale = Sys.getlocale(\"LC_TIME\"),\n",
    "  truncated = 0)\n",
    "\n",
    "* dmy(..., quiet = FALSE, tz = NULL, locale = Sys.getlocale(\"LC_TIME\"),\n",
    "  truncated = 0)\n",
    "\n",
    "* dym(..., quiet = FALSE, tz = NULL, locale = Sys.getlocale(\"LC_TIME\"),\n",
    "  truncated = 0)\n",
    "\n",
    "* yq(..., quiet = FALSE, tz = NULL, locale = Sys.getlocale(\"LC_TIME\"))"
   ]
  },
  {
   "cell_type": "code",
   "execution_count": null,
   "metadata": {
    "collapsed": true,
    "deletable": true,
    "editable": true
   },
   "outputs": [],
   "source": [
    "# View help on ymd()\n",
    "?___"
   ]
  },
  {
   "cell_type": "code",
   "execution_count": null,
   "metadata": {
    "collapsed": false,
    "deletable": true,
    "editable": true
   },
   "outputs": [],
   "source": [
    "# Create some dates\n",
    "\n",
    "# Typical ANSI standard date\n",
    "yyyy_mm_dd <- \"2008-12-22\"\n",
    "\n",
    "# Text short month and underscore delimiter\n",
    "yyyy_MM_dd <- \"2011_Jun_09\"\n",
    "\n",
    "# Text full month and day with comma separation\n",
    "MMM_DD_yyyy <- \"November 16th, 1970\"  \n",
    "\n",
    "# Mix of - and _\n",
    "dd_mm_yyyy <- \"30-07_1971\" \n",
    "\n",
    "# This is a number not a string\n",
    "yyyymmdd <- 19701116  \n",
    "\n",
    "# Create your own custom date string to try\n",
    "my_custom_date <- ___\n",
    "\n",
    "# Create data frame df_date\n",
    "# Column birthdate_str with all the dates above\n",
    "___ <- data_frame(___ = c(yyyy_mm_dd, yyyy_MM_dd, \n",
    "                                   MMM_DD_yyyy, dd_mm_yyyy,\n",
    "                                  yyyymmdd, my_custom_date))\n",
    "\n",
    "# Glimpse result\n",
    "glimpse(___)\n",
    "\n",
    "# Create birthdate columns in df\n",
    "# birthdate_ymd using ymd()\n",
    "# birthdate_mdy using mdy()\n",
    "# birthday_dmy using dmy()\n",
    "df_date <- df_date %>% mutate(___ = ___(birthdate_str),\n",
    "                   ___ = ___(birthdate_str),\n",
    "                   ___ = ___(birthdate_str))\n",
    "\n",
    "# Display result\n",
    "df_date\n"
   ]
  },
  {
   "cell_type": "markdown",
   "metadata": {
    "deletable": true,
    "editable": true
   },
   "source": [
    "Were all the dates able to be parsed by at least one method?\n",
    "\n",
    "* Delimiters such as / or - and a mix of both are supported\n",
    "* Months and days can be numerical or text\n",
    "* Most important element is consistent order of year, month, and day known ahead of time"
   ]
  },
  {
   "cell_type": "code",
   "execution_count": null,
   "metadata": {
    "collapsed": false,
    "deletable": true,
    "editable": true
   },
   "outputs": [],
   "source": [
    "# Create some timestamps\n",
    "\n",
    "# ymd hms\n",
    "ymd_hms <- \"2017-10-04 15:22:06\"\n",
    "\n",
    "# mdy hms with timezone\n",
    "mdy_hms_timezone <- \"10/04/2017 15:22:06 PDT\"\n",
    "\n",
    "# ymd hms fraction of seconds\n",
    "mdy_hms_ms <- \"2017-10-04 15:22:06.123456789\"\n",
    "\n",
    "# ymd hms am pm\n",
    "mdy_hms_pm <- \"2017-10-04 3:22:06 PM\"\n",
    "\n",
    "# hms\n",
    "hms <- \"15:22:06\"\n",
    "\n",
    "# ymd_hm\n",
    "ymd_hm <- \"2017-10-04 15:22\"\n",
    "\n",
    "# Create your own custom time string to try\n",
    "my_custom_time <- ___\n",
    "\n",
    "# Create data frame df_time\n",
    "# Column timestamp_str with all the times above\n",
    "df_time <- data_frame(___ = c(ymd_hms, mdy_hms_timezone, \n",
    "                                   mdy_hms_ms, mdy_hms_pm, hms,\n",
    "                                   ymd_hm, my_custom_time))\n",
    "\n",
    "# Glimpse result\n",
    "glimpse(___)\n",
    "\n",
    "# Create birthdate columns in df\n",
    "# timestamp_ymd_hms using ymd_hms()\n",
    "# timestamp_mdy_hms using mdy_hms()\n",
    "# timestamp_ymd_hm using ymd_hm()\n",
    "# timestamp_hms using hms()\n",
    "df_time <- df_time %>% mutate(___ = ___(timestamp_str),\n",
    "                   ___ = ___(timestamp_str),\n",
    "                   ___ = ___(timestamp_str),\n",
    "                   ___ = ___(timestamp_str))\n",
    "\n",
    "# Display result\n",
    "df_time"
   ]
  },
  {
   "cell_type": "markdown",
   "metadata": {
    "deletable": true,
    "editable": true
   },
   "source": [
    "Were all the times able to be parsed by at least one method?\n",
    "\n",
    "* Handles timezone\n",
    "* Handles AM / PM and 24 hour\n",
    "* Most important element is consistent order of year, month, day, hours, minutes, and seconds known ahead of time"
   ]
  },
  {
   "cell_type": "markdown",
   "metadata": {
    "deletable": true,
    "editable": true
   },
   "source": [
    "## year(), month(), day()\n",
    "Get/set days component of a date-time.\n",
    "### Usage\n",
    "year(x)\n",
    "\n",
    "month(x, label = FALSE, abbr = TRUE)\n",
    "\n",
    "day(x)\n",
    "\n",
    "mday(x)\n",
    "\n",
    "wday(x, label = FALSE, abbr = TRUE)\n",
    "\n",
    "qday(x)\n",
    "\n",
    "yday(x)"
   ]
  },
  {
   "cell_type": "code",
   "execution_count": null,
   "metadata": {
    "collapsed": true,
    "deletable": true,
    "editable": true
   },
   "outputs": [],
   "source": [
    "# View help on day()\n",
    "?___"
   ]
  },
  {
   "cell_type": "code",
   "execution_count": null,
   "metadata": {
    "collapsed": false,
    "deletable": true,
    "editable": true
   },
   "outputs": [],
   "source": [
    "# Create df_date_components from df_date\n",
    "# Create columns for year, month, and day\n",
    "# from df_date$birthdate_ymd\n",
    "# birthdate_year use year()\n",
    "# birthdate_month use month()\n",
    "# birthdate_day use day()\n",
    "___ <- df_date %>% \n",
    "   mutate(___ = ___(birthdate_ymd),\n",
    "         ___ = ___(birthdate_ymd),\n",
    "         ___ = ___(birthdate_ymd))\n",
    "\n",
    "# Display df_date\n",
    "df_date_components\n"
   ]
  },
  {
   "cell_type": "markdown",
   "metadata": {
    "deletable": true,
    "editable": true
   },
   "source": [
    "Use year(), month(), and day() to split a date into its components."
   ]
  },
  {
   "cell_type": "markdown",
   "metadata": {
    "deletable": true,
    "editable": true
   },
   "source": [
    "## make_date()\n",
    "Efficient creation of date-times from numeric representations.\n",
    "### Usage\n",
    "make_datetime(year = 1970L, month = 1L, day = 1L, hour = 0L, min = 0L,\n",
    "  sec = 0, tz = \"UTC\")\n",
    "\n",
    "make_date(year = 1970L, month = 1L, day = 1L)"
   ]
  },
  {
   "cell_type": "code",
   "execution_count": null,
   "metadata": {
    "collapsed": true,
    "deletable": true,
    "editable": true
   },
   "outputs": [],
   "source": [
    "# View help on make_date()\n",
    "?___"
   ]
  },
  {
   "cell_type": "code",
   "execution_count": null,
   "metadata": {
    "collapsed": false,
    "deletable": true,
    "editable": true
   },
   "outputs": [],
   "source": [
    "# Create date from separate year, month, day numeric columns\n",
    "# Use df_date_components and create df_date_comp2\n",
    "# birthdate_year, birthdate_month, birthdate_day\n",
    "# Create new column, birthdate_comp from above columns\n",
    "df_date_comp2 <- ___ %>%\n",
    "   mutate(birthdate_comp = ___(___, ___, ___))\n",
    "          \n",
    "# Display df_date_components\n",
    "df_date_comp2\n"
   ]
  },
  {
   "cell_type": "markdown",
   "metadata": {
    "deletable": true,
    "editable": true
   },
   "source": [
    "Do the dates in birthdate_comp match the dates in birthdate_ymd?"
   ]
  },
  {
   "cell_type": "markdown",
   "metadata": {
    "collapsed": false,
    "deletable": true,
    "editable": true
   },
   "source": [
    "## as_date(), as_datetime()\n",
    "Convert an object to a date or date-time. \n",
    "### Usage\n",
    "as_date(x, ...)\n",
    "\n",
    "as_datetime(x, ...)"
   ]
  },
  {
   "cell_type": "code",
   "execution_count": null,
   "metadata": {
    "collapsed": false,
    "deletable": true,
    "editable": true
   },
   "outputs": [],
   "source": [
    "# View help on as_date()\n",
    "?___\n"
   ]
  },
  {
   "cell_type": "code",
   "execution_count": null,
   "metadata": {
    "collapsed": false,
    "deletable": true,
    "editable": true
   },
   "outputs": [],
   "source": [
    "# Convert from datetime to date\n",
    "# Create df_time from df_time_date\n",
    "# Add column birthdate\n",
    "# from column timestamp_ymd_hms\n",
    "# Hint: use as_date()\n",
    "df_time_date <- df_time %>% \n",
    "   mutate(___ = ___(___))\n",
    "\n",
    "# Glimpse df_time_date\n",
    "glimpse(___)\n",
    "\n",
    "# Convert from date to datetime\n",
    "# Create df_date_time from df_date\n",
    "# Add column birthdatetime\n",
    "# from column birthdate_ymd\n",
    "# Hint: Use as_datetime()\n",
    "df_date_time <- df_date %>% \n",
    "   mutate(___ = ___(___))\n",
    "\n",
    "# Glimpse df_date_time\n",
    "glimpse(___)"
   ]
  },
  {
   "cell_type": "markdown",
   "metadata": {
    "deletable": true,
    "editable": true
   },
   "source": [
    "* Notice the data types from glimpse(). \n",
    "* The conversion to date uses < date > \n",
    "* The conversion to time uses < dttm >"
   ]
  },
  {
   "cell_type": "markdown",
   "metadata": {
    "deletable": true,
    "editable": true
   },
   "source": [
    "# Summary\n",
    "Lubridate includes several powerful date parsing functions to convert your string dates into date or date time data types."
   ]
  }
 ],
 "metadata": {
  "kernelspec": {
   "display_name": "R",
   "language": "R",
   "name": "ir"
  },
  "language_info": {
   "codemirror_mode": "r",
   "file_extension": ".r",
   "mimetype": "text/x-r-source",
   "name": "R",
   "pygments_lexer": "r",
   "version": "3.3.2"
  }
 },
 "nbformat": 4,
 "nbformat_minor": 0
}
