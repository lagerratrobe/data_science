{
 "cells": [
  {
   "cell_type": "code",
   "execution_count": 11,
   "metadata": {},
   "outputs": [],
   "source": [
    "import pandas as pd\n",
    "%matplotlib inline\n",
    "import seaborn as sb\n",
    "import numpy as np\n",
    "import matplotlib.pyplot as plt\n"
   ]
  },
  {
   "cell_type": "code",
   "execution_count": 6,
   "metadata": {},
   "outputs": [
    {
     "data": {
      "text/html": [
       "<div>\n",
       "<style>\n",
       "    .dataframe thead tr:only-child th {\n",
       "        text-align: right;\n",
       "    }\n",
       "\n",
       "    .dataframe thead th {\n",
       "        text-align: left;\n",
       "    }\n",
       "\n",
       "    .dataframe tbody tr th {\n",
       "        vertical-align: top;\n",
       "    }\n",
       "</style>\n",
       "<table border=\"1\" class=\"dataframe\">\n",
       "  <thead>\n",
       "    <tr style=\"text-align: right;\">\n",
       "      <th></th>\n",
       "      <th>AMO</th>\n",
       "      <th>NAO</th>\n",
       "      <th>NIN</th>\n",
       "    </tr>\n",
       "  </thead>\n",
       "  <tbody>\n",
       "    <tr>\n",
       "      <th>0</th>\n",
       "      <td>1856.0</td>\n",
       "      <td>0.193300</td>\n",
       "      <td>NaN</td>\n",
       "    </tr>\n",
       "    <tr>\n",
       "      <th>1</th>\n",
       "      <td>1857.0</td>\n",
       "      <td>-0.025330</td>\n",
       "      <td>NaN</td>\n",
       "    </tr>\n",
       "    <tr>\n",
       "      <th>2</th>\n",
       "      <td>1858.0</td>\n",
       "      <td>0.001833</td>\n",
       "      <td>NaN</td>\n",
       "    </tr>\n",
       "    <tr>\n",
       "      <th>3</th>\n",
       "      <td>1859.0</td>\n",
       "      <td>0.012500</td>\n",
       "      <td>NaN</td>\n",
       "    </tr>\n",
       "    <tr>\n",
       "      <th>4</th>\n",
       "      <td>1860.0</td>\n",
       "      <td>0.079170</td>\n",
       "      <td>NaN</td>\n",
       "    </tr>\n",
       "  </tbody>\n",
       "</table>\n",
       "</div>"
      ],
      "text/plain": [
       "      AMO       NAO  NIN\n",
       "0  1856.0  0.193300  NaN\n",
       "1  1857.0 -0.025330  NaN\n",
       "2  1858.0  0.001833  NaN\n",
       "3  1859.0  0.012500  NaN\n",
       "4  1860.0  0.079170  NaN"
      ]
     },
     "execution_count": 6,
     "metadata": {},
     "output_type": "execute_result"
    }
   ],
   "source": [
    "climate = pd.read_csv(\"climate_data.csv\", delimiter=\"|\")\n",
    "climate.head()"
   ]
  },
  {
   "cell_type": "code",
   "execution_count": 7,
   "metadata": {},
   "outputs": [
    {
     "name": "stdout",
     "output_type": "stream",
     "text": [
      "<class 'pandas.core.frame.DataFrame'>\n",
      "RangeIndex: 157 entries, 0 to 156\n",
      "Data columns (total 3 columns):\n",
      "AMO    157 non-null float64\n",
      "NAO    153 non-null float64\n",
      "NIN    148 non-null float64\n",
      "dtypes: float64(3)\n",
      "memory usage: 3.8 KB\n"
     ]
    }
   ],
   "source": [
    "climate.info()"
   ]
  },
  {
   "cell_type": "code",
   "execution_count": 8,
   "metadata": {
    "collapsed": true
   },
   "outputs": [],
   "source": [
    "x = np.array((climate['NIN'].index))\n",
    "y = np.array((climate['NIN'].values))\n",
    "data = [x,y]"
   ]
  },
  {
   "cell_type": "code",
   "execution_count": 17,
   "metadata": {},
   "outputs": [
    {
     "name": "stderr",
     "output_type": "stream",
     "text": [
      "/usr/local/anaconda2/lib/python2.7/site-packages/ipykernel_launcher.py:6: RuntimeWarning: invalid value encountered in greater_equal\n",
      "  \n",
      "/usr/local/anaconda2/lib/python2.7/site-packages/ipykernel_launcher.py:7: RuntimeWarning: invalid value encountered in greater_equal\n",
      "  import sys\n",
      "/usr/local/anaconda2/lib/python2.7/site-packages/ipykernel_launcher.py:8: RuntimeWarning: invalid value encountered in less\n",
      "  \n",
      "/usr/local/anaconda2/lib/python2.7/site-packages/ipykernel_launcher.py:9: RuntimeWarning: invalid value encountered in less\n",
      "  if __name__ == '__main__':\n"
     ]
    },
    {
     "name": "stdout",
     "output_type": "stream",
     "text": [
      "indicator :  name\n"
     ]
    },
    {
     "data": {
      "image/png": "[encoded data removed]",
      "text/plain": [
       "<matplotlib.figure.Figure at 0x7a77d4362150>"
      ]
     },
     "metadata": {},
     "output_type": "display_data"
    }
   ],
   "source": [
    "def stem_plot(data, name, notebook='n'):\n",
    "    \"\"\" doc \"\"\"\n",
    "    fig = plt.figure()\n",
    "    ax = fig.add_subplot(211)\n",
    "    fig.autofmt_xdate(bottom=0.1) \n",
    "    x_p = data[0][np.where(data[1]>=0)[0]]\n",
    "    y_p = data[1][np.where(data[1]>=0)[0]]\n",
    "    x_n = data[0][np.where(data[1]<0)[0]]\n",
    "    y_n = data[1][np.where(data[1]<0)[0]]\n",
    "    markerline, stemlines, baseline = plt.stem(x_p, y_p, 'r-')\n",
    "    plt.setp(markerline, 'markerfacecolor', 'b')\n",
    "    plt.setp(baseline, 'color', 'r', 'linewidth', 2)\n",
    "    plt.setp(stemlines, 'linewidth', 1)\n",
    "    markerline, stemlines, baseline = plt.stem(x_n, y_n, 'b-')\n",
    "    plt.setp(markerline, 'markerfacecolor', 'b')\n",
    "    plt.setp(baseline, 'color', 'r', 'linewidth', 2)\n",
    "    plt.setp(stemlines, 'linewidth', 1)\n",
    "    plt.grid()\n",
    "    plt.setp(plt.gca(), 'xlabel', 'Year', 'ylabel', name)\n",
    "    if notebook == 'y':\n",
    "        fig.subplots_adjust(left=-1.0)\n",
    "        fig.subplots_adjust(right=1.0)\n",
    "    print 'indicator : ', name\n",
    "    plt.show()\n",
    "\n",
    "stem_plot(data, 'name', 'y')"
   ]
  }
 ],
 "metadata": {
  "kernelspec": {
   "display_name": "Python 2",
   "language": "python",
   "name": "python2"
  },
  "language_info": {
   "codemirror_mode": {
    "name": "ipython",
    "version": 2
   },
   "file_extension": ".py",
   "mimetype": "text/x-python",
   "name": "python",
   "nbconvert_exporter": "python",
   "pygments_lexer": "ipython2",
   "version": "2.7.13"
  }
 },
 "nbformat": 4,
 "nbformat_minor": 2
}
