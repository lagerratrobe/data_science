{
 "cells": [
  {
   "cell_type": "markdown",
   "metadata": {
    "deletable": true,
    "editable": true
   },
   "source": [
    "# Manipulating Strings\n",
    "Strings can have much more variety as compared to numbers. In this exercise you will explore the fundamental string functions you can use for data wrangling. You will use the tidyverse package stringr. It isn't loaded as part of the tidyverse library so you will need to load it with separate library statements.\n",
    "\n",
    "The stringr package contains many functions that detect string patterns and modify strings. The workhorse of string detection is regular expressions. Pragmatically, regular expressions are strings that use wildcards for matching. There are many different symbols that work together to implement the string pattern for both matching and replacement. \n",
    "\n",
    "\n",
    "## R Features\n",
    "* library()\n",
    "* print()\n",
    "* cat()\n",
    "* str_length()\n",
    "* str_c()\n",
    "* c()\n",
    "* str_replace_na()\n",
    "* str_sub()\n",
    "* str_to_lower()\n",
    "* str_to_upper()\n",
    "* str_to_title()\n",
    "* str_trim()\n",
    "* str_detect()\n",
    "* str_extract()\n",
    "* str_replace()\n",
    "* glimpse()\n",
    "* mutate()\n",
    "* levels()\n",
    "* filter()\n",
    "* select()\n",
    "* distinct()\n",
    "* arrange()\n",
    "* head()\n",
    "* as.character()\n",
    "* as.factor()\n",
    "\n",
    "## Datasets\n",
    "* mpg\n"
   ]
  },
  {
   "cell_type": "code",
   "execution_count": null,
   "metadata": {
    "collapsed": false,
    "deletable": true,
    "editable": true,
    "scrolled": false
   },
   "outputs": [],
   "source": [
    "# Load libraries\n",
    "___(___)    # stringr\n",
    "___(___)  # tidyverse\n"
   ]
  },
  {
   "cell_type": "markdown",
   "metadata": {
    "deletable": true,
    "editable": true
   },
   "source": [
    "## String literals and variables\n",
    "When you use string functions you can pass in a string literal (a stand alone string) or a variable that contains the string data. Let's get familiar with how to create string literals and save them in variables. \n",
    "\n",
    "For diagnostic purposes, you can enclose a line of code in parenthesis '(< code >)' and it will display the result.\n",
    "\n",
    "The below information is for your reference as it is too confusing to provide text instructions of how to do this."
   ]
  },
  {
   "cell_type": "code",
   "execution_count": null,
   "metadata": {
    "collapsed": false,
    "deletable": true,
    "editable": true
   },
   "outputs": [],
   "source": [
    "# String literal\n",
    "\"This is a string literal\"\n",
    "\n",
    "# A three letter string\n",
    "str_three <- \"abc\"\n",
    "\n",
    "# Strings can use single or double quotes\n",
    "str_single <- 'This is a string using single quotes'\n",
    "str_double <- \"This is a string using double quotes\"\n",
    "\n",
    "# Choose single or double quotes with embedded quote characters\n",
    "str_single_embedded <- 'This is a string using single quotes with \"embedded\" double quotes'\n",
    "str_double_embedded <- \"This is a string using double quotes with 'embedded' single quotes\"\n",
    "\n",
    "# Escaping a quote character using a backslash\n",
    "str_double_embedded_escaped <- \"This is a string using double quotes with \\\"embedded\\\" single quotes using escape\"\n",
    "\n",
    "# Use print to print these\n",
    "print(str_single)\n",
    "print(str_double)\n",
    "print(str_single_embedded)\n",
    "print(str_double_embedded)\n",
    "print(str_double_embedded_escaped)\n",
    "\n",
    "# Assign to variable and print using parenthesis\n",
    "(str_assign_print <- \"Assigning string and printing using parenthesis\")\n",
    "\n",
    "# multi-line string\n",
    "str_multi_line <- \"Line 1\n",
    "Line 2\n",
    "Line 3\"\n",
    "\n",
    "# Print displays newline as \\n\n",
    "# cat displays actual newline\n",
    "print(str_multi_line)\n",
    "cat(str_multi_line)\n",
    "cat(\"\\n\") # Needed to reset to new line for next output\n",
    "\n",
    "# Storing multiple strings in one variable\n",
    "# known as a character vector\n",
    "# Can store literals, variables, and NA\n",
    "str_vector <- c(\"string 1\", str_single_embedded, NA, str_multi_line)\n",
    "\n",
    "# cat output\n",
    "cat(str_vector)\n",
    "cat(\"\\n\") # Needed to reset to new line for next output\n",
    "\n",
    "# print output easier to see the vector\n",
    "print(str_vector)"
   ]
  },
  {
   "cell_type": "markdown",
   "metadata": {
    "deletable": true,
    "editable": true
   },
   "source": [
    "## Stringr package\n",
    "\n",
    "There are 25 string function categories in the stringr package. \n",
    "\n",
    "* case                    Convert case of a string.\n",
    "\n",
    "* invert_match            Switch location of matches to location of non-matches.\n",
    "                        \n",
    "* modifiers               Control matching behaviour with modifier functions.\n",
    "                        \n",
    "* str_c                   Join multiple strings into a single string.\n",
    "\n",
    "* str_conv                Specify the encoding of a string.\n",
    "\n",
    "* str_count               Count the number of matches in a string.\n",
    "\n",
    "* str_detect              Detect the presence or absence of a pattern in a string.\n",
    "                        \n",
    "* str_dup                 Duplicate and concatenate strings within a character vector.\n",
    "                        \n",
    "* str_extract             Extract matching patterns from a string.\n",
    "\n",
    "* str_interp              String interpolation.\n",
    "\n",
    "* str_length              The length of a string.\n",
    "\n",
    "* str_locate              Locate the position of patterns in a string.\n",
    "\n",
    "* str_match               Extract matched groups from a string.\n",
    "\n",
    "* str_order               Order or sort a character vector.\n",
    "\n",
    "* str_pad                 Pad a string.\n",
    "\n",
    "* str_replace             Replace matched patterns in a string.\n",
    "\n",
    "* str_replace_na          Turn NA into \"NA\"\n",
    "\n",
    "* str_split               Split up a string into pieces.\n",
    "\n",
    "* str_sub                 Extract and replace substrings from a character vector.\n",
    "                        \n",
    "* str_subset              Keep strings matching a pattern.\n",
    "\n",
    "* str_trim                Trim whitespace from start and end of string.\n",
    "\n",
    "* str_trunc               Truncate a character string.\n",
    "\n",
    "* str_view                View HTML rendering of regular expression match.\n",
    "                        \n",
    "* str_wrap                Wrap strings into nicely formatted paragraphs.\n",
    "\n",
    "* stringr-data            Sample character vectors for practicing string manipulations.\n",
    "                        \n",
    "* word                    Extract words from a sentence.\n"
   ]
  },
  {
   "cell_type": "code",
   "execution_count": null,
   "metadata": {
    "collapsed": false,
    "deletable": true,
    "editable": true
   },
   "outputs": [],
   "source": [
    "# Use library(help = \"package\")\n",
    "# to see the functions\n",
    "library(help = \"___\")"
   ]
  },
  {
   "cell_type": "markdown",
   "metadata": {
    "collapsed": false,
    "deletable": true,
    "editable": true
   },
   "source": [
    "## str_length()\n",
    "The length of a string. Technically this returns the number of \"code points\", in a string. One code point usually corresponds to one character, but not always. For example, an u with a umlaut might be represented as a single character or as the combination a u and an umlaut. \n",
    "### Usage\n",
    "str_length(string)"
   ]
  },
  {
   "cell_type": "code",
   "execution_count": null,
   "metadata": {
    "collapsed": true,
    "deletable": true,
    "editable": true
   },
   "outputs": [],
   "source": [
    "# View help on str_length()\n",
    "?___"
   ]
  },
  {
   "cell_type": "code",
   "execution_count": null,
   "metadata": {
    "collapsed": false,
    "deletable": true,
    "editable": true
   },
   "outputs": [],
   "source": [
    "# What is the string length of \n",
    "# str_three\n",
    "print(str_three)\n",
    "___(str_three)\n",
    "\n",
    "# What is the string length of \n",
    "# str_multi_line\n",
    "print(str_multi_line)\n",
    "___(str_multi_line)\n",
    "\n",
    "# What is the string length of \n",
    "# str_vector\n",
    "print(str_vector)\n",
    "___(str_vector)\n",
    "\n",
    "# What is the string length of \n",
    "# letters\n",
    "print(letters)\n",
    "___(letters)"
   ]
  },
  {
   "cell_type": "markdown",
   "metadata": {
    "deletable": true,
    "editable": true
   },
   "source": [
    "Are the string lengths what you expected? \n",
    "\n",
    "For the most part, str_length is counting characters. Be careful that this function is vectorized and when you pass it a character vector, which is what letters was, it will count each of them separately.\n",
    "\n",
    "Notice that new lines although printed as \\n are counted as a single character."
   ]
  },
  {
   "cell_type": "markdown",
   "metadata": {
    "deletable": true,
    "editable": true
   },
   "source": [
    "## str_c()\n",
    "Join multiple strings into a single string. To understand how str_c works, you need to imagine that you are building up a matrix of strings. Each input argument forms a column, and is expanded to the length of the longest argument, using the usual recyling rules. The sep string is inserted between each column. If collapse is NULL each row is collapsed into a single string. If non-NULL that string is inserted at the end of each row, and the entire matrix collapsed to a single string. \n",
    "### Usage\n",
    "str_c(..., sep = \"\", collapse = NULL)"
   ]
  },
  {
   "cell_type": "code",
   "execution_count": null,
   "metadata": {
    "collapsed": true,
    "deletable": true,
    "editable": true
   },
   "outputs": [],
   "source": [
    "# View help on str_c()\n",
    "?___"
   ]
  },
  {
   "cell_type": "code",
   "execution_count": null,
   "metadata": {
    "collapsed": false,
    "deletable": true,
    "editable": true
   },
   "outputs": [],
   "source": [
    "# Combine two string literals\n",
    "# print result and length\n",
    "str_combine_literals <- str_c(\"first\", \"second\")\n",
    "print(str_combine_literals)\n",
    "___(str_combine_literals)\n",
    "\n",
    "# Combine literals and single string variables\n",
    "# print result and length\n",
    "str_combine_alltypes <- ___(\"literal\", str_three, str_vector)\n",
    "print(str_combine_alltypes)\n",
    "___(str_combine_alltypes)\n",
    "\n",
    "# Combine literals and character vector str_vector\n",
    "# print result and length\n",
    "str_combine_alltypes <- ___(\"literal2\", str_vector)\n",
    "print(str_combine_alltypes)\n",
    "___(str_combine_alltypes)\n",
    "\n",
    "# Combine literals and character vector letters\n",
    "# print result and length\n",
    "str_combine_letters <- ___(\"Letter: \", letters)\n",
    "print(str_combine_letters)\n",
    "___(str_combine_letters)\n"
   ]
  },
  {
   "cell_type": "markdown",
   "metadata": {
    "deletable": true,
    "editable": true
   },
   "source": [
    "## Recycling\n",
    "Combining strings reveals an interesting property of R called recycling. This isn't referring to memory garbage collection. It is the replication of data in one vector to match the length of data in another vector. This part of the vectorization built into R. \n",
    "\n",
    "When combining the string literal \"Letter: \" with the letters character vector of length 26, the str_c() function made 25 copies of the string literal \"Letter: \" so it could be matched up which each entry of the 26 letters character vector."
   ]
  },
  {
   "cell_type": "code",
   "execution_count": null,
   "metadata": {
    "collapsed": false,
    "deletable": true,
    "editable": true
   },
   "outputs": [],
   "source": [
    "# Combine two character vectors of same size\n",
    "str_1_2 <- c(\"1\", \"2\")\n",
    "str_a_b <- c(\"a\", \"b\")\n",
    "str_c(___, ___)\n",
    "\n",
    "# Combine two character vectors of multiples of longest one\n",
    "___(str_1_2, letters)\n",
    "\n",
    "# Combine two character vectors not multiple of longest one\n",
    "str_1_2_3 <- c(\"1\", \"2\", \"3\")\n",
    "___(str_1_2_3, letters)"
   ]
  },
  {
   "cell_type": "markdown",
   "metadata": {
    "deletable": true,
    "editable": true
   },
   "source": [
    "* When the length of both character vectors are the same, they just match up. \n",
    "* When one character vector is smaller than the other but a whole multiple of each other, then it recycles or replicates the smaller vector to match the larger one. \n",
    "* When the larger character vector isn't a whole multiple of the smaller one, it still recycles, but also issues a warning message \"longer object length is not a multiple of shorter object length\""
   ]
  },
  {
   "cell_type": "markdown",
   "metadata": {
    "deletable": true,
    "editable": true
   },
   "source": [
    "## Collapsing and separating strings\n",
    "str_c() can also take multiple strings and character vectors and collapse them into a single string.\n",
    "* sep value is put between each of the string vectors\n",
    "* collapse value is put between each set of string vectors and collapses the result into a single string"
   ]
  },
  {
   "cell_type": "code",
   "execution_count": null,
   "metadata": {
    "collapsed": false,
    "deletable": true,
    "editable": true
   },
   "outputs": [],
   "source": [
    "# Collapse letters character vector into a single string\n",
    "# No separator between strings\n",
    "# Hint: collape=\"\"\n",
    "str_c(letters,___)\n",
    "\n",
    "# Collapse letters character vector into a single string\n",
    "# Separate using a comma and a space\n",
    "# Hint: collape=\", \"\n",
    "str_c(letters, ___)\n",
    "\n",
    "# Combine str_1_2 and letters and str_a_b character vectors into a single string\n",
    "# separating each combined string by a colon \n",
    "# separating each collapsed string by a comma and space\n",
    "# Result: '1:a:a, 2:b:b, 1:c:a, ...'\n",
    "# Hint: sep=\":\", collapse=\", \"\n",
    "str_c(str_1_2, letters, str_a_b, ___, ___)"
   ]
  },
  {
   "cell_type": "markdown",
   "metadata": {
    "deletable": true,
    "editable": true
   },
   "source": [
    "There is a lot of flexibility in how to combine, separate, and collapse strings."
   ]
  },
  {
   "cell_type": "markdown",
   "metadata": {
    "deletable": true,
    "editable": true
   },
   "source": [
    "## str_replace_na()\n",
    "Turn NA into \"NA\". \n",
    "### Usage\n",
    "str_replace_na(string, replacement = \"NA\")"
   ]
  },
  {
   "cell_type": "code",
   "execution_count": null,
   "metadata": {
    "collapsed": true,
    "deletable": true,
    "editable": true
   },
   "outputs": [],
   "source": [
    "# View help on str_replace_na()\n",
    "?___"
   ]
  },
  {
   "cell_type": "code",
   "execution_count": null,
   "metadata": {
    "collapsed": false,
    "deletable": true,
    "editable": true
   },
   "outputs": [],
   "source": [
    "# Missing inputs give missing outputs\n",
    "str_c(\"something\", NA)\n",
    "\n",
    "# Combining character vectors containing NA\n",
    "# Combine str_contains_na with letters\n",
    "str_contains_na <- c(\"-\", NA)\n",
    "___(___, ___)\n",
    "\n",
    "# Use str_replace_na before str_c to display NA\n",
    "# Convert NA in str_contains_na to \"NA\"\n",
    "# Combine above with letters\n",
    "str_c(___(___), letters)"
   ]
  },
  {
   "cell_type": "markdown",
   "metadata": {
    "deletable": true,
    "editable": true
   },
   "source": [
    "## str_sub()\n",
    "Extract and replace substrings from a character vector. str_sub will recycle all arguments to be the same length as the longest argument. If any arguments are of length 0, the output will be a zero length character vector.\n",
    "### Usage\n",
    "str_sub(string, start = 1L, end = -1L)\n",
    "str_sub(string, start = 1L, end = -1L) <- value"
   ]
  },
  {
   "cell_type": "code",
   "execution_count": null,
   "metadata": {
    "collapsed": true,
    "deletable": true,
    "editable": true
   },
   "outputs": [],
   "source": [
    "#View help on str_sub()\n",
    "?___"
   ]
  },
  {
   "cell_type": "code",
   "execution_count": null,
   "metadata": {
    "collapsed": false,
    "deletable": true,
    "editable": true
   },
   "outputs": [],
   "source": [
    "# Define a string to work with\n",
    "str_fox_dog <- \"The crazy brown fox jumped over the lazy dog.\"\n",
    "\n",
    "# Display the first 9 letters\n",
    "# of str_fox_dog\n",
    "# use all positional arguments\n",
    "# no named parameters\n",
    "___(str_fox_dog, ___, ___)\n",
    "\n",
    "# Pipe in string using %>% \n",
    "# use named parameter 'end'\n",
    "str_fox_dog %>% str_sub(end = 9)\n",
    "\n",
    "# Display the last 9 letters\n",
    "# of str_fox_dog\n",
    "str_fox_dog %>% ___(___)\n",
    "\n",
    "# Display just dog using str_sub\n",
    "# of str_fox_dog\n",
    "str_fox_dog %>% ___(start = ___, end = ___)\n",
    "\n",
    "# In str_fox_dog replace dog with cats\n",
    "# Hint: Pipe doesn't work in this case\n",
    "___(str_fox_dog, start = ___, end = ___) <- \"___\"\n",
    "\n",
    "# Print str_fox_dog\n",
    "print(___)"
   ]
  },
  {
   "cell_type": "markdown",
   "metadata": {
    "deletable": true,
    "editable": true
   },
   "source": [
    "If you know the starting and ending locations in a string relative to either the start or the end of the string, you can extract the substring and even replace it."
   ]
  },
  {
   "cell_type": "markdown",
   "metadata": {
    "deletable": true,
    "editable": true
   },
   "source": [
    "## substring using character vectors\n",
    "When applying str_sub() to a character vector (containing multiple strings) the function is applied element-wise in typical vectorized fashion including vector recycling as necessary. "
   ]
  },
  {
   "cell_type": "code",
   "execution_count": null,
   "metadata": {
    "collapsed": false,
    "deletable": true,
    "editable": true
   },
   "outputs": [],
   "source": [
    "# Define some strings\n",
    "str_single <- 'This is a string using single quotes'\n",
    "str_double <- \"This is a string using double quotes\"\n",
    "str_combined <- c(str_single, str_double)\n",
    "print(str_combined)\n",
    "\n",
    "# Return 'This' from str_combined\n",
    "str_combined %>% ___(end = ___)\n",
    "\n",
    "# Return 'quotes' from str_combined\n",
    "str_combined %>% ___(start = ___)\n",
    "\n",
    "# Return 'quotes' from str_combined\n",
    "# Return a *single* comma separated string\n",
    "# Hint: str_c with collapse\n",
    "str_combined %>% \n",
    "   ___(start = ___) %>% \n",
    "   ___(collapse = ___)\n",
    "\n",
    "# Return single string 'b, c, d' \n",
    "# using letters vector\n",
    "# Hint: str_c collapse the str_sub\n",
    "letters %>% \n",
    "   ___(___) %>% \n",
    "   ___(___)"
   ]
  },
  {
   "cell_type": "markdown",
   "metadata": {
    "deletable": true,
    "editable": true
   },
   "source": [
    "You can combine multiple string functions together which enables additional flexibility. This also provides many ways to accomplish the same task. Always look for the most closely matching function for your desired result."
   ]
  },
  {
   "cell_type": "markdown",
   "metadata": {
    "deletable": true,
    "editable": true
   },
   "source": [
    "## Upper case, Lower case and Sentence case\n",
    "Convert case of a string.\n",
    "### Usage\n",
    "str_to_upper(string, locale = \"\")\n",
    "\n",
    "str_to_lower(string, locale = \"\")\n",
    "\n",
    "str_to_title(string, locale = \"\")"
   ]
  },
  {
   "cell_type": "code",
   "execution_count": null,
   "metadata": {
    "collapsed": true,
    "deletable": true,
    "editable": true
   },
   "outputs": [],
   "source": [
    "# View help on str_to_lower()\n",
    "?___"
   ]
  },
  {
   "cell_type": "code",
   "execution_count": null,
   "metadata": {
    "collapsed": false,
    "deletable": true,
    "editable": true
   },
   "outputs": [],
   "source": [
    "# Define a string to work with\n",
    "str_fox_dog <- \"The crazy brown fox jumped over the lazy dog.\"\n",
    "\n",
    "# Return the above string in\n",
    "# lowercase\n",
    "# uppercase\n",
    "# First character of each word capitalized\n",
    "___(str_fox_dog)\n",
    "___(str_fox_dog)\n",
    "___(str_fox_dog)"
   ]
  },
  {
   "cell_type": "markdown",
   "metadata": {
    "deletable": true,
    "editable": true
   },
   "source": [
    "## str_trim()\n",
    "Trim whitespace from start and end of string. \n",
    "### Usage\n",
    "str_trim(string, side = c(\"both\", \"left\", \"right\"))"
   ]
  },
  {
   "cell_type": "code",
   "execution_count": null,
   "metadata": {
    "collapsed": true,
    "deletable": true,
    "editable": true
   },
   "outputs": [],
   "source": [
    "# View help on str_trim()\n",
    "?___"
   ]
  },
  {
   "cell_type": "code",
   "execution_count": null,
   "metadata": {
    "collapsed": false,
    "deletable": true,
    "editable": true
   },
   "outputs": [],
   "source": [
    "# Define strings\n",
    "str_left_whitespace <- \"   Whitespace    on left\"\n",
    "str_right_whitespace <- \"Whitespace   on right   \"\n",
    "str_both_whitespace <- \"   Whitespace    on both    \"\n",
    "str_newline <- \"\n",
    "line2\n",
    "\"\n",
    "str_combined <- c(str_left_whitespace, str_right_whitespace, \n",
    "                  str_both_whitespace, str_newline)\n",
    "print(str_combined)\n",
    "\n",
    "# Trim whitespace from str_combined\n",
    "# left only\n",
    "# right only\n",
    "# both\n",
    "print(\"Trim left\")\n",
    "str_combined %>% ___(\"___\")\n",
    "\n",
    "print(\"Trim right\")\n",
    "str_combined %>% ___(\"___\")\n",
    "\n",
    "print(\"Trim both\")\n",
    "str_combined %>% ___(\"___\")\n",
    "\n",
    "# str_trim without specifying a side does what?\n",
    "print(\"Trim <none>\")\n",
    "str_combined %>% ___()"
   ]
  },
  {
   "cell_type": "markdown",
   "metadata": {
    "deletable": true,
    "editable": true
   },
   "source": [
    "* It did trims all sorts of whitespace characters including spaces and newline characters. \n",
    "* It did not trim whitespace in the middle of the string.\n",
    "* Default option is to trim both left and right sides"
   ]
  },
  {
   "cell_type": "markdown",
   "metadata": {
    "deletable": true,
    "editable": true
   },
   "source": [
    "## Regular Expressions\n",
    "Regular expressions are strings that can be passed to string functions to aid in matching and replacing characters. It defines many of the symbols to have special meaning for wildcard pattern matching. \n",
    "\n",
    "To use a symbol as a text literal, you will need to prefix the symbol with two backslash characters to \"escape\" it. It is needed twice, since both R and regular expression use the same character to mean escape. \n",
    "\n",
    "* \\s matches whitespace\n",
    "* * means zero or more occurrences of previous character\n",
    "* . means any character\n",
    "* ^ means start of string\n",
    "* $ means end of string\n",
    "* [abc] means one of these characters"
   ]
  },
  {
   "cell_type": "markdown",
   "metadata": {
    "deletable": true,
    "editable": true
   },
   "source": [
    "## str_detect()\n",
    "Detect the presence or absence of a pattern in a string. Vectorised over string and pattern. \n",
    "### Usage\n",
    "str_detect(string, pattern)"
   ]
  },
  {
   "cell_type": "code",
   "execution_count": null,
   "metadata": {
    "collapsed": true,
    "deletable": true,
    "editable": true
   },
   "outputs": [],
   "source": [
    "# View help on str_detect()\n",
    "?___"
   ]
  },
  {
   "cell_type": "code",
   "execution_count": null,
   "metadata": {
    "collapsed": false,
    "deletable": true,
    "editable": true,
    "scrolled": true
   },
   "outputs": [],
   "source": [
    "# Define strings\n",
    "str_apple <- c(\" apple pie\", \"apple\", \"Apple pie cake\", \n",
    "               \"banana apple pie\", \"blueberry pie\", \"apple apple\", \"apricot applesause cake\")\n",
    "\n",
    "# Return true false vector for strings containing 'apple'\n",
    "# Assign to match_index\n",
    "print(\"strings containing 'apple'\")\n",
    "___ <- ___(str_apple, \"___\")\n",
    "\n",
    "# print match_index\n",
    "print(___)\n",
    "\n",
    "# Print strings associated with\n",
    "# TRUE in match_index\n",
    "# Hint: Use the index inside [] for the string variable\n",
    "str_apple[___] %>% \n",
    "   print()\n",
    "\n",
    "# Print strings containing 'pie'\n",
    "print(\"strings containing 'pie'\")\n",
    "___ <- ___(str_apple, \"___\")\n",
    "str_apple[___] %>% \n",
    "   print()\n",
    "\n",
    "# Print strings ending in 'pie'\n",
    "# Hint: use $\n",
    "print(\"strings ending in 'pie'\")\n",
    "___ <- ___(str_apple, \"___\")\n",
    "str_apple[___] %>% \n",
    "   print()\n",
    "\n",
    "# Print strings starting with apple\n",
    "# Hint: use ^ for starting\n",
    "print(\"strings starts with 'apple'\")\n",
    "___ <- ___(str_apple, \"___\")\n",
    "str_apple[___] %>% \n",
    "   print()\n",
    "\n",
    "# Print strings starting with apple\n",
    "# Ignore whitespace and match both 'apple' and 'Apple'\n",
    "# Hint: use ^ for starting\n",
    "# Hint: use \\s for space and * for zero or more\n",
    "# Hint: use [Aa] for upper and lower case A\n",
    "print(\"strings starts with 'apple' enhanced\")\n",
    "___ <- ___(str_apple, \"___\")\n",
    "str_apple[___] %>% \n",
    "   print()"
   ]
  },
  {
   "cell_type": "markdown",
   "metadata": {
    "deletable": true,
    "editable": true
   },
   "source": [
    "str_detect is useful to find the rows of data that has a given pattern match. "
   ]
  },
  {
   "cell_type": "markdown",
   "metadata": {
    "deletable": true,
    "editable": true
   },
   "source": [
    "## str_extract()\n",
    "Extract matching patterns from a string. Vectorised over string and pattern. \n",
    "### Usage\n",
    "str_extract(string, pattern)"
   ]
  },
  {
   "cell_type": "code",
   "execution_count": null,
   "metadata": {
    "collapsed": true,
    "deletable": true,
    "editable": true
   },
   "outputs": [],
   "source": [
    "# View help on str_extract()\n",
    "?___"
   ]
  },
  {
   "cell_type": "code",
   "execution_count": null,
   "metadata": {
    "collapsed": false,
    "deletable": true,
    "editable": true
   },
   "outputs": [],
   "source": [
    "# Define strings\n",
    "str_apple <- c(\" apple pie\", \"apple\", \"Apple pie cake\", \n",
    "               \"banana apple pie\", \"blueberry pie\", \"apple apple\", \"apricot applesause cake\")\n",
    "\n",
    "# Print strings starting with apple\n",
    "# Hint: use ^ for starting\n",
    "print(\"strings starts with 'apple'\")\n",
    "___(str_apple, \"___\")\n",
    "\n",
    "# Print strings starting with apple\n",
    "# Ignore whitespace and match both 'apple' and 'Apple'\n",
    "# Hint: use ^ for starting\n",
    "# Hint: use \\s for space and * for zero or more\n",
    "# Hint: use [Aa] for upper and lower case A\n",
    "print(\"strings starts with 'apple' enhanced\")\n",
    "___(str_apple, \"___\")\n",
    "\n",
    "# Find 'apple'or 'Apple' _middle_text_ then 'cake'\n",
    "# Hint: use [Aa] and .*\n",
    "print(\"Find 'apple' _middle_text_ then 'cake'\")\n",
    "___(str_apple, \"___\")"
   ]
  },
  {
   "cell_type": "markdown",
   "metadata": {
    "deletable": true,
    "editable": true
   },
   "source": [
    "str_detect is useful for extracting the matching text"
   ]
  },
  {
   "cell_type": "markdown",
   "metadata": {
    "deletable": true,
    "editable": true
   },
   "source": [
    "## str_replace()\n",
    "Replace matched patterns in a string. Vectorised over string, pattern and replacement. \n",
    "### Usage\n",
    "str_replace(string, pattern, replacement)"
   ]
  },
  {
   "cell_type": "code",
   "execution_count": null,
   "metadata": {
    "collapsed": true,
    "deletable": true,
    "editable": true
   },
   "outputs": [],
   "source": [
    "# View help on str_replace\n",
    "?___"
   ]
  },
  {
   "cell_type": "code",
   "execution_count": null,
   "metadata": {
    "collapsed": false,
    "deletable": true,
    "editable": true,
    "scrolled": false
   },
   "outputs": [],
   "source": [
    "# Define strings\n",
    "str_apple <- c(\" apple pie\", \"apple\", \"Apple pie cake\", \n",
    "               \"banana apple pie\", \"blueberry pie\", \"apple apple\", \"apricot applesause cake\")\n",
    "\n",
    "# Replace apple with cherry for str_apple\n",
    "___(str_apple, \"___\", \"___\")\n",
    "\n",
    "# Work with mpg dataset model column\n",
    "# Glimpse mpg\n",
    "___(mpg)\n",
    "\n",
    "# Make a copy of mpg as df\n",
    "___ <- ___\n",
    "\n",
    "# Convert df$model to a factor\n",
    "# Hint: as.factor()\n",
    "df <- df %>% mutate(___ = ___)\n",
    "\n",
    "# Display model factor levels\n",
    "# Hint: levels()\n",
    "df$model %>% ___()\n",
    "\n",
    "# Select only model column\n",
    "# Provide distinct data only\n",
    "# Sort alphabetically\n",
    "# Display first 5\n",
    "df %>% select(___) %>% \n",
    "   ___() %>%\n",
    "   ___() %>%\n",
    "   ___(5)\n",
    "\n",
    "# Detect 2, 4 and all wheel drive in mpg$model directly\n",
    "# Display unique values of model containing 2 or 4 or all wheel drive\n",
    "# Sort alphabetically\n",
    "# Display first 5\n",
    "# Hint: use filter() and str_detect()\n",
    "df %>% ___(___(model, \"___\")) %>%\n",
    "   ___(model) %>% \n",
    "   ___() %>%\n",
    "   ___() %>%\n",
    "   ___(5)\n",
    "\n",
    "# Update df$model to remove 2wd, 4wd, and awd\n",
    "# Also remove any surrounding whitespace\n",
    "# Hint: mutate(model), convert to char and back to factor as.character() and as.factor()\n",
    "# Hint: str_replace() \\s for whitespace * for zero or more occurrances, [] for character groups\n",
    "df <- df %>% ___(model = ___(model %>% ___, \"___\", \"\") %>% ___)\n",
    "\n",
    "# Display model factor levels\n",
    "# Hint: levels()\n",
    "df$model %>% ___()"
   ]
  },
  {
   "cell_type": "markdown",
   "metadata": {
    "deletable": true,
    "editable": true
   },
   "source": [
    "* Notice the removal of 2wd and 4wd and awd from model column\n",
    "* Factors need to be converted to character vectors before replacement"
   ]
  },
  {
   "cell_type": "markdown",
   "metadata": {
    "deletable": true,
    "editable": true
   },
   "source": [
    "# Summary\n",
    "There are many string functions to help you wrangle data in the stringr package. You can combine them together to solve all your string manipulation needs."
   ]
  }
 ],
 "metadata": {
  "kernelspec": {
   "display_name": "R",
   "language": "R",
   "name": "ir"
  },
  "language_info": {
   "codemirror_mode": "r",
   "file_extension": ".r",
   "mimetype": "text/x-r-source",
   "name": "R",
   "pygments_lexer": "r",
   "version": "3.3.2"
  }
 },
 "nbformat": 4,
 "nbformat_minor": 0
}
