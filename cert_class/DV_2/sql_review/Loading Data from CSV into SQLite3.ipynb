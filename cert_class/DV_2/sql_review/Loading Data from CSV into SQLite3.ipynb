{
 "cells": [
  {
   "cell_type": "markdown",
   "metadata": {},
   "source": [
    "## Loading Data from CSV files into SQLite Database\n",
    "\n",
    "The goal in this section is to load the data we need to do the SQL exercises.  You can get more information on what the setup and so called \"dot\" commands do __[here](https://www.sqlite.org/cli.html)__.  As an alternative to this step, you can also use the *\"DV2.db\"* which is checked in.  It already contains all of the tables shown in these steps.\n",
    "\n",
    "#### I. Create a new database named \"DV2\" (short for Data Visualization 2)\n",
    "```\n",
    "PS D:\\Code\\data_science\\cert_class\\DV_2\\sql_review> sqlite3.exe DV2.db\n",
    "SQLite version 3.22.0 2018-01-22 18:45:57\n",
    "Enter \".help\" for usage hints.\n",
    "sqlite>\n",
    "```\n",
    "**NOTE:**  Executing the *sqlite3* command followed by a DB name will either open an existing DB file with that name, or create a new one.  The steps below assume that you are creating a new one.\n",
    "\n",
    "```\n",
    "sqlite> .mode csv \n",
    "sqlite> .separator \"|\"\n",
    "sqlite> .import \"artists.csv\" artists\n",
    "sqlite> .import \"laptops.csv\" laptops\n",
    "sqlite> .import \"products.csv\" products\n",
    "sqlite> .tables\n",
    "artists   laptops   products\n",
    "sqlite> .headers on\n",
    "sqlite> .mode list\n",
    "sqlite> .schema artists\n",
    "CREATE TABLE artists(\n",
    "  \"album\" TEXT,\n",
    "  \"singer\" TEXT,\n",
    "  \"year\" TEXT,\n",
    "  \"sale\" TEXT\n",
    ");\n",
    "sqlite> .schema laptops\n",
    "CREATE TABLE laptops(\n",
    "  \"id\" TEXT,\n",
    "  \"model\" TEXT,\n",
    "  \"speed\" TEXT,\n",
    "  \"ram\" TEXT,\n",
    "  \"hdd\" TEXT\n",
    ");\n",
    "sqlite> .schema products\n",
    "CREATE TABLE products(\n",
    "  \"maker\" TEXT,\n",
    "  \"model\" TEXT,\n",
    "  \"type\" TEXT\n",
    ");\n",
    "sqlite> select * from artists;\n",
    "album|singer|year|sale\n",
    "Invaders Must Die|The Prodigy|2008|1200000\n",
    "Sinner|Drowning Pool|2001|400000\n",
    "Mezzanine|Massive Attack|1998|2300000\n",
    "Fat of the Land|The Prodigy|1997|600000\n",
    "Music for the Jilted Generation|The Prodigy|1997|600000\n",
    "100th Window|Massive Attack|2003|1200000\n",
    "Full Circle|Drowning Pool|2007|800000\n",
    "Danny The Dog|Massive Attack|2004|1900000\n",
    "Resilience|Drowning Pool|2013|500000\n",
    "sqlite>\n",
    "```"
   ]
  }
 ],
 "metadata": {
  "anaconda-cloud": {},
  "kernelspec": {
   "display_name": "Python [conda env:anaconda3]",
   "language": "python",
   "name": "conda-env-anaconda3-py"
  },
  "language_info": {
   "codemirror_mode": {
    "name": "ipython",
    "version": 3
   },
   "file_extension": ".py",
   "mimetype": "text/x-python",
   "name": "python",
   "nbconvert_exporter": "python",
   "pygments_lexer": "ipython3",
   "version": "3.5.4"
  }
 },
 "nbformat": 4,
 "nbformat_minor": 2
}
