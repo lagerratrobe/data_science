{
 "cells": [
  {
   "cell_type": "markdown",
   "metadata": {},
   "source": [
    "\n",
    "# L06-2 Probability and Descriptive Statistics Continued\n",
    "## Assignment Instructions\n",
    "Rename with your name in place of Studentname and make your edits and updates here.\n",
    "\n"
   ]
  },
  {
   "cell_type": "markdown",
   "metadata": {
    "collapsed": true
   },
   "source": [
    "# Lesson 6: Homework / Assesment\n",
    "\n",
    "## Objective\n",
    "Acquire hands-on experience with descriptive statistics and associated plots\n",
    "\n",
    "## Questions To Answer\n",
    "1. What are the central tendencies, standard deviation, and MAD of **Lot Area**?\n",
    "2. Plot histogram of **Lot Area**. What can you tell about it? Is it skewed?\n",
    "3. Assuming that housing dataset is a complete population and we can use it's standard deviation as population deviation, calculate 95% confidence interval for **Lot Area** mean from 200 size sample. Output: mean, -confidence interval, +confidence interval.\n",
    "4. Plot normalized scatterplot **Lot Area** and **SalePrice**\n",
    "5. What is correlation coefficient for **Lot Area** and **SalePrice**?\n",
    "\n",
    "Tips: \n",
    "1. Remember to include required libraries and missing stat. functions from the lab.\n",
    "2. Enclosing the expression in () will output the value of the expression. Example: (x <- 1) will output 1."
   ]
  },
  {
   "cell_type": "markdown",
   "metadata": {},
   "source": [
    "## Initial Setup"
   ]
  },
  {
   "cell_type": "code",
   "execution_count": null,
   "metadata": {
    "collapsed": true
   },
   "outputs": [],
   "source": [
    "# Display directory contents. This directory should contain the data for this exercise: AmesHousing.xls\n",
    "___()                                           \n"
   ]
  },
  {
   "cell_type": "code",
   "execution_count": null,
   "metadata": {
    "collapsed": true
   },
   "outputs": [],
   "source": [
    "# R doesn't have a method to calculate mode statistic - create\n",
    "___\n",
    "\n",
    "# R doesn't have a method to calculate deviation around mean - create \n",
    "___\n"
   ]
  },
  {
   "cell_type": "code",
   "execution_count": null,
   "metadata": {
    "collapsed": true
   },
   "outputs": [],
   "source": [
    "#Install packages if not already installed\n",
    "library(readxl)\n",
    "library(tidyverse)\n",
    "library(corrgram)\n",
    "library(caret)"
   ]
  },
  {
   "cell_type": "code",
   "execution_count": null,
   "metadata": {
    "collapsed": true
   },
   "outputs": [],
   "source": [
    "#load data\n",
    "\n",
    "___"
   ]
  },
  {
   "cell_type": "markdown",
   "metadata": {},
   "source": [
    "## 1. Central tendencies, standard deviation, and MAD of Lot Area\n",
    "\n",
    "Hint: `Lot Area` is two words."
   ]
  },
  {
   "cell_type": "code",
   "execution_count": null,
   "metadata": {
    "collapsed": true
   },
   "outputs": [],
   "source": [
    "# Question 1:\n",
    "#central tendencies\n",
    "mean(AmesHousing$___)\n",
    "median(___)\n",
    "stat_mode(___)\n",
    "\n",
    "#standard deviation\n",
    "(sd <- ___(___))\n",
    "\n",
    "#MAD\n",
    "meanAD <- avgAD(___)"
   ]
  },
  {
   "cell_type": "markdown",
   "metadata": {},
   "source": [
    "## 2. Histogram Plot\n",
    "\n",
    "Hint: Refer to Section 6.C in the Lab."
   ]
  },
  {
   "cell_type": "code",
   "execution_count": null,
   "metadata": {
    "collapsed": true
   },
   "outputs": [],
   "source": [
    "#Question 2:\n",
    "# Histogram of lot area overlaid with density curve\n",
    "# What can you tell about it? Is it skewed?\n",
    "\n",
    "ggplot(AmesHousing, aes(x=___)) + \n",
    "  geom_histogram(aes(y=___),      # Density on y-axis\n",
    "                 color=\"black\", fill=\"white\",\n",
    "                 bins = 100) +\n",
    "  geom_density(alpha=.2, fill=\"#FF7777\") + # Overlay with density plot\n",
    "  geom_vline(aes(xintercept=mean(___), color=\"mean\"), linetype=\"dashed\", size=.5) + #vertical line for mean\n",
    "  geom_vline(aes(xintercept=median(___), color=\"median\"), linetype=\"dashed\", size=.5) + #vertical line for mean\n",
    "  geom_vline(aes(xintercept=stat_mode(___), color=\"mode\"), linetype=\"dashed\", size=.5)  #vertical line for mode\n"
   ]
  },
  {
   "cell_type": "markdown",
   "metadata": {},
   "source": [
    "## 3. Mean, -confidence interval, +confidence interval\n",
    "\n",
    "Hint: Refer to Section 6.5.1 in the Lab."
   ]
  },
  {
   "cell_type": "code",
   "execution_count": null,
   "metadata": {
    "collapsed": true
   },
   "outputs": [],
   "source": [
    "#Question 3:\n",
    "#Assuming that housing dataset is a complete population and we can use its standard deviation as population deviation,\n",
    "#calculate 95% confidence interval for **Lot Area** mean from 200 size sample. \n",
    "#Output: mean, -confidence interval, +confidence interval.\n",
    "\n",
    "sample_size <- 200\n",
    "sample <- AmesHousing$___[sample(length(___))]\n",
    "mean(sample)\n",
    "(mean(sample)-___(0.975)*sd/sqrt(sample_size))\n",
    "(mean(sample)+___(0.975)*sd/sqrt(sample_size))"
   ]
  },
  {
   "cell_type": "markdown",
   "metadata": {},
   "source": [
    "## 4. Normalized Scatterplot\n",
    "\n",
    "Hint: Refer to Section 6.5.2 in the Lab"
   ]
  },
  {
   "cell_type": "code",
   "execution_count": null,
   "metadata": {
    "collapsed": true
   },
   "outputs": [],
   "source": [
    "#Question 4:\n",
    "# Plot normalized scatterplot **Lot Area** and **SalePrice**\n",
    "\n",
    "ggplot(AmesHousing,aes(x = ___(SalePrice), y=___(`Lot Area`))) +\n",
    "    geom_point(shape=1) "
   ]
  },
  {
   "cell_type": "markdown",
   "metadata": {},
   "source": [
    "## 5. Correlation Matrix\n",
    "\n",
    "Hint: Refer to Section 6.6 in the Lab"
   ]
  },
  {
   "cell_type": "code",
   "execution_count": null,
   "metadata": {
    "collapsed": true
   },
   "outputs": [],
   "source": [
    "#Question 5: What is correlation coefficient for **Lot Area** and **SalePrice**?\n",
    "(corMatrix <- cor(___)\n",
    "corMatrix[c(___),c(___)]\n"
   ]
  }
 ],
 "metadata": {
  "kernelspec": {
   "display_name": "R",
   "language": "R",
   "name": "ir"
  },
  "language_info": {
   "codemirror_mode": "r",
   "file_extension": ".r",
   "mimetype": "text/x-r-source",
   "name": "R",
   "pygments_lexer": "r",
   "version": "3.3.2"
  }
 },
 "nbformat": 4,
 "nbformat_minor": 2
}
