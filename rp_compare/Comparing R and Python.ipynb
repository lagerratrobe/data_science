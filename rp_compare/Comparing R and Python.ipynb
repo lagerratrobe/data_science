{
 "cells": [
  {
   "cell_type": "markdown",
   "metadata": {},
   "source": [
    "## Comparing Simple Plotting in R and Python\n",
    "\n",
    "Can we replicate the functionality of R easily using Python in a Jupyter Notebook?  Let's find out.  The goal here is to load a data set from CSV into a dataframe and then make a couple types of plots.  Ideally we'll try to make these plots:\n",
    "\n",
    "* A simple scatter plot with 2 variables\n",
    "* A scatter plot with jittered data (preferably jittered on just one axis)\n",
    "* A set of small multiples (R facet_wrap/facet_grid)\n"
   ]
  },
  {
   "cell_type": "markdown",
   "metadata": {},
   "source": [
    "### Step 1:  Load various library packages\n",
    "\n",
    "#### R:\n",
    "\n",
    "```\n",
    "library(tidyverse)\n",
    "```\n",
    "\n",
    "#### Python:\n",
    "```\n",
    "import pandas as pd\n",
    "%matplotlib inline\n",
    "import seaborn as sb\n",
    "```\n",
    "\n",
    "(More importing to do in Python)"
   ]
  },
  {
   "cell_type": "markdown",
   "metadata": {},
   "source": [
    "### Step 2: Load CSV file into dataframe\n",
    "\n",
    "#### R:\n",
    "```\n",
    "foo <- read_csv(\"mpg.csv\")\n",
    "\n",
    "glimpse(foo)\n",
    "\n",
    "Observations: 234\n",
    "Variables: 11\n",
    "$ manufacturer <chr> \"audi\", \"audi\", \"audi\", \"audi\", \"audi\", \"audi\", \"audi\"...\n",
    "$ model        <chr> \"a4\", \"a4\", \"a4\", \"a4\", \"a4\", \"a4\", \"a4\", \"a4 quattro\"...\n",
    "$ displ        <dbl> 1.8, 1.8, 2.0, 2.0, 2.8, 2.8, 3.1, 1.8, 1.8, 2.0, 2.0,...\n",
    "$ year         <int> 1999, 1999, 2008, 2008, 1999, 1999, 2008, 1999, 1999, ...\n",
    "$ cyl          <int> 4, 4, 4, 4, 6, 6, 6, 4, 4, 4, 4, 6, 6, 6, 6, 6, 6, 8, ...\n",
    "$ trans        <chr> \"auto(l5)\", \"manual(m5)\", \"manual(m6)\", \"auto(av)\", \"a...\n",
    "$ drv          <chr> \"f\", \"f\", \"f\", \"f\", \"f\", \"f\", \"f\", \"4\", \"4\", \"4\", \"4\",...\n",
    "$ cty          <int> 18, 21, 20, 21, 16, 18, 18, 18, 16, 20, 19, 15, 17, 17...\n",
    "$ hwy          <int> 29, 29, 31, 30, 26, 26, 27, 26, 25, 28, 27, 25, 25, 25...\n",
    "$ fl           <chr> \"p\", \"p\", \"p\", \"p\", \"p\", \"p\", \"p\", \"p\", \"p\", \"p\", \"p\",...\n",
    "$ class        <chr> \"compact\", \"compact\", \"compact\", \"compact\", \"compact\",...\n",
    "```\n",
    "\n",
    "#### Python:\n",
    "\n",
    "```\n",
    "foo = pd.read_csv('mpg.csv')\n",
    "foo.info()\n",
    "\n",
    "<class 'pandas.core.frame.DataFrame'>\n",
    "RangeIndex: 234 entries, 0 to 233\n",
    "Data columns (total 11 columns):\n",
    "manufacturer    234 non-null object\n",
    "model           234 non-null object\n",
    "displ           234 non-null float64\n",
    "year            234 non-null int64\n",
    "cyl             234 non-null int64\n",
    "trans           234 non-null object\n",
    "drv             234 non-null object\n",
    "cty             234 non-null int64\n",
    "hwy             234 non-null int64\n",
    "fl              234 non-null object\n",
    "class           234 non-null object\n",
    "dtypes: float64(1), int64(4), object(6)\n",
    "memory usage: 20.2+ KB\n",
    "```"
   ]
  },
  {
   "cell_type": "markdown",
   "metadata": {},
   "source": [
    "### Simple scatter plot\n",
    "\n",
    "Create a scatterplot of mpg data.\n",
    "*  *Miles per gallon (hwy) vs. engine displacement (displ)*\n",
    "*  *displ on the x-axis and hwy on the y-axis*\n",
    "\n",
    "\n",
    "#### R:\n",
    "```\n",
    "ggplot(data = mpg) + \n",
    "   geom_point(mapping = aes(x = displ, y = hwy))\n",
    "```\n",
    "\n",
    "![Figure 1.](./R_displ_vs_hwy_scatter_plot.png)\n",
    "\n",
    "#### Python:\n",
    "```\n",
    "sb.set()\n",
    "sb.lmplot(x=\"displ\", y=\"hwy\", data=foo, fit_reg=False, size = 7)\n",
    "```\n",
    "![Figure 2.](./Py_displ_vs_hwy_scatter_plot.png)"
   ]
  }
 ],
 "metadata": {
  "kernelspec": {
   "display_name": "Python 2",
   "language": "python",
   "name": "python2"
  },
  "language_info": {
   "codemirror_mode": {
    "name": "ipython",
    "version": 2
   },
   "file_extension": ".py",
   "mimetype": "text/x-python",
   "name": "python",
   "nbconvert_exporter": "python",
   "pygments_lexer": "ipython2",
   "version": "2.7.13"
  }
 },
 "nbformat": 4,
 "nbformat_minor": 2
}
