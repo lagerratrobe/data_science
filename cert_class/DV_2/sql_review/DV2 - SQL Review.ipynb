{
 "cells": [
  {
   "cell_type": "markdown",
   "metadata": {},
   "source": [
    "## Data Visualization Class 2: SQL Review\n",
    "This is a rewrite of the \"DATAAVS210_L02-Student Notes.docx\" class handout from January 22, 2018.  I felt there was good material covered in the slides, but I wasn't able to actually follow along and do the exercises in class.  In this notebook I re-created the data tables shown in the slides, show how to load them into a sqlite3 DB and then run the queries shown in the slides.\n",
    "\n",
    "### Goals: \n",
    "The stated class goals for this lecture were - **\"to revisit some basic concepts of SQL and write basic SQL queries using the proper syntax\".**\n",
    "\n",
    "### Prerequisites:\n",
    "1. Download and install SQLite3. __[*Instructions Here*](https://github.com/lagerratrobe/data_science/blob/master/cert_class/DV_2/sql_review/SQLite3%20Installation.ipynb)__\n",
    "2. Load the CSV files contained in this repo into a new DB named \"sql_refresh.db\" __[*Instructions here*](https://github.com/lagerratrobe/data_science/blob/master/cert_class/DV_2/sql_review/Loading%20Data%20from%20CSV%20into%20SQLite3.ipynb)__\n",
    "\n",
    "I've chosen to use SQLite (Version 3) as the means of implementing these SQL examples because it is free, easy to install and available for Mac, Linux and Windows.  SQLite is a lightweight, file-based, relational database engine.  It claims to be the \"most used database engine in the world\" and while it lacks some of the fetures found in more complex databses like PostgreSQL or Microsoft SQL Server, it is more than capable of executing these queries.  As an added bonus, it's also very easy to connect to a SQLite DB from within R using the RSQLite library. "
   ]
  },
  {
   "cell_type": "markdown",
   "metadata": {},
   "source": []
  }
 ],
 "metadata": {
  "anaconda-cloud": {},
  "kernelspec": {
   "display_name": "Python [conda env:anaconda3]",
   "language": "python",
   "name": "conda-env-anaconda3-py"
  },
  "language_info": {
   "codemirror_mode": {
    "name": "ipython",
    "version": 3
   },
   "file_extension": ".py",
   "mimetype": "text/x-python",
   "name": "python",
   "nbconvert_exporter": "python",
   "pygments_lexer": "ipython3",
   "version": "3.5.4"
  }
 },
 "nbformat": 4,
 "nbformat_minor": 2
}
