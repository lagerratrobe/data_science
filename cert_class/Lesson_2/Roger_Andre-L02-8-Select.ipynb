{
 "cells": [
  {
   "cell_type": "markdown",
   "metadata": {},
   "source": [
    "# L02-8-Select\n",
    "## Assignment Instructions\n",
    "Rename with your name in place of Studentname and make your edits and updates here.\n",
    "\n",
    "\n"
   ]
  },
  {
   "cell_type": "markdown",
   "metadata": {
    "collapsed": true
   },
   "source": [
    "# Selecting Columns\n",
    "\n",
    "The select() function is simple, in that, you provide a comma separated list of columns and only those columns are selected. Practice makes perfect. Let’s revisit the select() function and work with some of its helper functions to be able to select the columns we are looking for. In a prior exercise, we explored the basic select() operation, namely, provide it a list of columns and only those columns are returned in a data frame, in that order. Often times, we aren’t selecting columns just to remove columns we don’t need, but rather selecting columns that we need to do some additional data wrangling or cleansing with such as data type conversion. This makes selecting columns a much more common task than just part of the data import process. \n",
    "\n",
    "In this exercise, we will explore some additional time-saving features select() provides. \n",
    "Admittedly, the dataset we are working with have only several columns. As a result, some functions we won't be able to cover, and all this might seem a bit trivial. In practice, however, there can be data frames with hundreds or thousands of columns. Managing these manually would be painful. Often, these thousand-column data frames have some patterns in their column names. Maybe they end with a 3-digit number, or maybe the date columns end with _date. We can exploit these patterns. Being able to more programmatically select the columns of interest will become more important in these cases. After all, we are in a programming environment, so let’s take advantage of it.\n",
    "\n",
    "We will also use regular expressions. Regular Expressions is a popular method for text pattern matching that is implemented in many programming languages. Full coverage is outside the scope of this course. It is used briefly in this exercise to make you aware of it and it will show up more, later in the course. Just know that R makes extensive use of regular expressions and is the default for most text matching functions. So be careful when trying to match symbols as they may be interpreted as regular expression modifiers.\n",
    "\n",
    "\n",
    "## R Features\n",
    "* library()\n",
    "* glimpse()\n",
    "* ? help\n",
    "* %>% pipe\n",
    "* names()\n",
    "* sort()\n",
    "* rename()\n",
    "* \\- exclude\n",
    "* : range\n",
    "* starts_with(): starts with a prefix\n",
    "* ends_with(): ends with a prefix\n",
    "* contains(): contains a literal string\n",
    "* matches(): matches a regular expression\n",
    "* everything(): all variables\n",
    "* regular expressions\n",
    "\n",
    "\n",
    "## Datasets\n",
    "* mpg"
   ]
  },
  {
   "cell_type": "code",
   "execution_count": 2,
   "metadata": {},
   "outputs": [
    {
     "name": "stderr",
     "output_type": "stream",
     "text": [
      "Loading tidyverse: ggplot2\n",
      "Loading tidyverse: tibble\n",
      "Loading tidyverse: tidyr\n",
      "Loading tidyverse: readr\n",
      "Loading tidyverse: purrr\n",
      "Loading tidyverse: dplyr\n",
      "Conflicts with tidy packages ---------------------------------------------------\n",
      "filter(): dplyr, stats\n",
      "lag():    dplyr, stats\n"
     ]
    }
   ],
   "source": [
    "# Load libraries\n",
    "library(tidyverse)"
   ]
  },
  {
   "cell_type": "code",
   "execution_count": null,
   "metadata": {
    "collapsed": true,
    "scrolled": true
   },
   "outputs": [],
   "source": [
    "# Explore data structure\n",
    "# Data: mpg\n",
    "# glimpse(mpg)"
   ]
  },
  {
   "cell_type": "code",
   "execution_count": 4,
   "metadata": {},
   "outputs": [],
   "source": [
    "# Display the select() help\n",
    "# help(select)\n",
    "\n",
    "# Notice the examples\n",
    "# Notice the related rename() function"
   ]
  },
  {
   "cell_type": "code",
   "execution_count": 6,
   "metadata": {},
   "outputs": [
    {
     "data": {
      "text/html": [
       "<ol class=list-inline>\n",
       "\t<li>'hwy'</li>\n",
       "\t<li>'displ'</li>\n",
       "\t<li>'cyl'</li>\n",
       "\t<li>'class'</li>\n",
       "</ol>\n"
      ],
      "text/latex": [
       "\\begin{enumerate*}\n",
       "\\item 'hwy'\n",
       "\\item 'displ'\n",
       "\\item 'cyl'\n",
       "\\item 'class'\n",
       "\\end{enumerate*}\n"
      ],
      "text/markdown": [
       "1. 'hwy'\n",
       "2. 'displ'\n",
       "3. 'cyl'\n",
       "4. 'class'\n",
       "\n",
       "\n"
      ],
      "text/plain": [
       "[1] \"hwy\"   \"displ\" \"cyl\"   \"class\""
      ]
     },
     "metadata": {},
     "output_type": "display_data"
    }
   ],
   "source": [
    "# select columns with comma delimited list\n",
    "# use names() instead of glimpse to see just the column names\n",
    "# select columns hwy, displ, cyl, and class\n",
    "mpg %>% \n",
    "   select(hwy, displ, cyl, class) %>% \n",
    "   names()\n",
    "\n",
    "# Notice that it simply returns the list of column names"
   ]
  },
  {
   "cell_type": "code",
   "execution_count": 7,
   "metadata": {},
   "outputs": [
    {
     "data": {
      "text/html": [
       "<ol class=list-inline>\n",
       "\t<li>'class'</li>\n",
       "\t<li>'cty'</li>\n",
       "\t<li>'cyl'</li>\n",
       "\t<li>'displ'</li>\n",
       "\t<li>'drv'</li>\n",
       "\t<li>'fl'</li>\n",
       "\t<li>'hwy'</li>\n",
       "\t<li>'manufacturer'</li>\n",
       "\t<li>'model'</li>\n",
       "\t<li>'trans'</li>\n",
       "\t<li>'year'</li>\n",
       "</ol>\n"
      ],
      "text/latex": [
       "\\begin{enumerate*}\n",
       "\\item 'class'\n",
       "\\item 'cty'\n",
       "\\item 'cyl'\n",
       "\\item 'displ'\n",
       "\\item 'drv'\n",
       "\\item 'fl'\n",
       "\\item 'hwy'\n",
       "\\item 'manufacturer'\n",
       "\\item 'model'\n",
       "\\item 'trans'\n",
       "\\item 'year'\n",
       "\\end{enumerate*}\n"
      ],
      "text/markdown": [
       "1. 'class'\n",
       "2. 'cty'\n",
       "3. 'cyl'\n",
       "4. 'displ'\n",
       "5. 'drv'\n",
       "6. 'fl'\n",
       "7. 'hwy'\n",
       "8. 'manufacturer'\n",
       "9. 'model'\n",
       "10. 'trans'\n",
       "11. 'year'\n",
       "\n",
       "\n"
      ],
      "text/plain": [
       " [1] \"class\"        \"cty\"          \"cyl\"          \"displ\"        \"drv\"         \n",
       " [6] \"fl\"           \"hwy\"          \"manufacturer\" \"model\"        \"trans\"       \n",
       "[11] \"year\"        "
      ]
     },
     "metadata": {},
     "output_type": "display_data"
    }
   ],
   "source": [
    "# Sometimes for longer lists of columns\n",
    "# I like to see them in alphabetical order\n",
    "# sort() can help with this\n",
    "mpg %>% \n",
    "   names() %>% \n",
    "   sort()\n",
    "\n",
    "# Notice that all the columns are in alphabetical order\n",
    "# The order in the data frame didn't change\n",
    "# only the order that they are being displayed was sorted."
   ]
  },
  {
   "cell_type": "code",
   "execution_count": 9,
   "metadata": {},
   "outputs": [
    {
     "data": {
      "text/html": [
       "<ol class=list-inline>\n",
       "\t<li>'manufacturer'</li>\n",
       "\t<li>'model'</li>\n",
       "\t<li>'displ'</li>\n",
       "\t<li>'year'</li>\n",
       "\t<li>'cyl'</li>\n",
       "\t<li>'trans'</li>\n",
       "\t<li>'drv'</li>\n",
       "\t<li>'cty'</li>\n",
       "\t<li>'hwy'</li>\n",
       "\t<li>'fl'</li>\n",
       "\t<li>'class'</li>\n",
       "</ol>\n"
      ],
      "text/latex": [
       "\\begin{enumerate*}\n",
       "\\item 'manufacturer'\n",
       "\\item 'model'\n",
       "\\item 'displ'\n",
       "\\item 'year'\n",
       "\\item 'cyl'\n",
       "\\item 'trans'\n",
       "\\item 'drv'\n",
       "\\item 'cty'\n",
       "\\item 'hwy'\n",
       "\\item 'fl'\n",
       "\\item 'class'\n",
       "\\end{enumerate*}\n"
      ],
      "text/markdown": [
       "1. 'manufacturer'\n",
       "2. 'model'\n",
       "3. 'displ'\n",
       "4. 'year'\n",
       "5. 'cyl'\n",
       "6. 'trans'\n",
       "7. 'drv'\n",
       "8. 'cty'\n",
       "9. 'hwy'\n",
       "10. 'fl'\n",
       "11. 'class'\n",
       "\n",
       "\n"
      ],
      "text/plain": [
       " [1] \"manufacturer\" \"model\"        \"displ\"        \"year\"         \"cyl\"         \n",
       " [6] \"trans\"        \"drv\"          \"cty\"          \"hwy\"          \"fl\"          \n",
       "[11] \"class\"       "
      ]
     },
     "metadata": {},
     "output_type": "display_data"
    },
    {
     "data": {
      "text/html": [
       "<ol class=list-inline>\n",
       "\t<li>'manufacturer'</li>\n",
       "\t<li>'model'</li>\n",
       "\t<li>'displ'</li>\n",
       "\t<li>'year'</li>\n",
       "\t<li>'cyl'</li>\n",
       "\t<li>'drv'</li>\n",
       "\t<li>'cty'</li>\n",
       "\t<li>'hwy'</li>\n",
       "\t<li>'class'</li>\n",
       "</ol>\n"
      ],
      "text/latex": [
       "\\begin{enumerate*}\n",
       "\\item 'manufacturer'\n",
       "\\item 'model'\n",
       "\\item 'displ'\n",
       "\\item 'year'\n",
       "\\item 'cyl'\n",
       "\\item 'drv'\n",
       "\\item 'cty'\n",
       "\\item 'hwy'\n",
       "\\item 'class'\n",
       "\\end{enumerate*}\n"
      ],
      "text/markdown": [
       "1. 'manufacturer'\n",
       "2. 'model'\n",
       "3. 'displ'\n",
       "4. 'year'\n",
       "5. 'cyl'\n",
       "6. 'drv'\n",
       "7. 'cty'\n",
       "8. 'hwy'\n",
       "9. 'class'\n",
       "\n",
       "\n"
      ],
      "text/plain": [
       "[1] \"manufacturer\" \"model\"        \"displ\"        \"year\"         \"cyl\"         \n",
       "[6] \"drv\"          \"cty\"          \"hwy\"          \"class\"       "
      ]
     },
     "metadata": {},
     "output_type": "display_data"
    }
   ],
   "source": [
    "# select all columns except some\n",
    "# Use - to remove columns\n",
    "# select all columns except trans and fl\n",
    "mpg %>% names()\n",
    "\n",
    "mpg %>%\n",
    "   select(-trans, -fl) %>%\n",
    "   names()"
   ]
  },
  {
   "cell_type": "code",
   "execution_count": 10,
   "metadata": {
    "scrolled": true
   },
   "outputs": [
    {
     "data": {
      "text/html": [
       "<ol class=list-inline>\n",
       "\t<li>'model'</li>\n",
       "\t<li>'displ'</li>\n",
       "\t<li>'year'</li>\n",
       "\t<li>'cyl'</li>\n",
       "\t<li>'trans'</li>\n",
       "\t<li>'drv'</li>\n",
       "\t<li>'cty'</li>\n",
       "\t<li>'hwy'</li>\n",
       "</ol>\n"
      ],
      "text/latex": [
       "\\begin{enumerate*}\n",
       "\\item 'model'\n",
       "\\item 'displ'\n",
       "\\item 'year'\n",
       "\\item 'cyl'\n",
       "\\item 'trans'\n",
       "\\item 'drv'\n",
       "\\item 'cty'\n",
       "\\item 'hwy'\n",
       "\\end{enumerate*}\n"
      ],
      "text/markdown": [
       "1. 'model'\n",
       "2. 'displ'\n",
       "3. 'year'\n",
       "4. 'cyl'\n",
       "5. 'trans'\n",
       "6. 'drv'\n",
       "7. 'cty'\n",
       "8. 'hwy'\n",
       "\n",
       "\n"
      ],
      "text/plain": [
       "[1] \"model\" \"displ\" \"year\"  \"cyl\"   \"trans\" \"drv\"   \"cty\"   \"hwy\"  "
      ]
     },
     "metadata": {},
     "output_type": "display_data"
    }
   ],
   "source": [
    "# select columns by range\n",
    "# Use <column name>:<column name> for start and end range\n",
    "# select all columns inclusively between model and hwy\n",
    "mpg %>% \n",
    "   select(model:hwy) %>% \n",
    "   names()"
   ]
  },
  {
   "cell_type": "code",
   "execution_count": 11,
   "metadata": {},
   "outputs": [
    {
     "data": {
      "text/html": [
       "<ol class=list-inline>\n",
       "\t<li>'displ'</li>\n",
       "\t<li>'year'</li>\n",
       "\t<li>'cyl'</li>\n",
       "\t<li>'drv'</li>\n",
       "\t<li>'cty'</li>\n",
       "\t<li>'hwy'</li>\n",
       "\t<li>'fl'</li>\n",
       "\t<li>'manufacturer'</li>\n",
       "</ol>\n"
      ],
      "text/latex": [
       "\\begin{enumerate*}\n",
       "\\item 'displ'\n",
       "\\item 'year'\n",
       "\\item 'cyl'\n",
       "\\item 'drv'\n",
       "\\item 'cty'\n",
       "\\item 'hwy'\n",
       "\\item 'fl'\n",
       "\\item 'manufacturer'\n",
       "\\end{enumerate*}\n"
      ],
      "text/markdown": [
       "1. 'displ'\n",
       "2. 'year'\n",
       "3. 'cyl'\n",
       "4. 'drv'\n",
       "5. 'cty'\n",
       "6. 'hwy'\n",
       "7. 'fl'\n",
       "8. 'manufacturer'\n",
       "\n",
       "\n"
      ],
      "text/plain": [
       "[1] \"displ\"        \"year\"         \"cyl\"          \"drv\"          \"cty\"         \n",
       "[6] \"hwy\"          \"fl\"           \"manufacturer\""
      ]
     },
     "metadata": {},
     "output_type": "display_data"
    }
   ],
   "source": [
    "# Can combine different selection methods\n",
    "# select all columns inclusively between displ and fl except trans \n",
    "# followed by manufacturer\n",
    "mpg %>% \n",
    "   select(displ:fl, -trans, manufacturer) %>% \n",
    "   names()"
   ]
  },
  {
   "cell_type": "code",
   "execution_count": 28,
   "metadata": {},
   "outputs": [
    {
     "data": {
      "text/html": [
       "<ol class=list-inline>\n",
       "\t<li>'manufacturer'</li>\n",
       "\t<li>'model'</li>\n",
       "\t<li>'displacement'</li>\n",
       "\t<li>'year'</li>\n",
       "\t<li>'cyl'</li>\n",
       "\t<li>'trans'</li>\n",
       "\t<li>'drv'</li>\n",
       "\t<li>'cty'</li>\n",
       "\t<li>'hwy'</li>\n",
       "\t<li>'fl'</li>\n",
       "\t<li>'class'</li>\n",
       "</ol>\n"
      ],
      "text/latex": [
       "\\begin{enumerate*}\n",
       "\\item 'manufacturer'\n",
       "\\item 'model'\n",
       "\\item 'displacement'\n",
       "\\item 'year'\n",
       "\\item 'cyl'\n",
       "\\item 'trans'\n",
       "\\item 'drv'\n",
       "\\item 'cty'\n",
       "\\item 'hwy'\n",
       "\\item 'fl'\n",
       "\\item 'class'\n",
       "\\end{enumerate*}\n"
      ],
      "text/markdown": [
       "1. 'manufacturer'\n",
       "2. 'model'\n",
       "3. 'displacement'\n",
       "4. 'year'\n",
       "5. 'cyl'\n",
       "6. 'trans'\n",
       "7. 'drv'\n",
       "8. 'cty'\n",
       "9. 'hwy'\n",
       "10. 'fl'\n",
       "11. 'class'\n",
       "\n",
       "\n"
      ],
      "text/plain": [
       " [1] \"manufacturer\" \"model\"        \"displacement\" \"year\"         \"cyl\"         \n",
       " [6] \"trans\"        \"drv\"          \"cty\"          \"hwy\"          \"fl\"          \n",
       "[11] \"class\"       "
      ]
     },
     "metadata": {},
     "output_type": "display_data"
    }
   ],
   "source": [
    "# rename columns while selecting them\n",
    "# <new name> = <column name>\n",
    "# select displ and rename it displacement\n",
    "#?rename\n",
    "\n",
    "mpg %>% rename(displacement = displ) %>% names()\n"
   ]
  },
  {
   "cell_type": "code",
   "execution_count": null,
   "metadata": {
    "collapsed": true
   },
   "outputs": [],
   "source": [
    "# select all the columns and rename some\n",
    "# rename() is simpler when renaming columns and selecting all columns\n",
    "# rename displ to displacement yet include all columns\n",
    "mpg %>% \n",
    "   ___(___ = ___) %>% \n",
    "   ___()\n",
    "\n",
    "# Notice that rename doesn't change the order \n",
    "# of the columns or drop any columns"
   ]
  },
  {
   "cell_type": "code",
   "execution_count": null,
   "metadata": {
    "collapsed": true
   },
   "outputs": [],
   "source": [
    "# Display help for starts_with()\n",
    "___starts_with\n",
    "\n",
    "# Notice all select_helpers are listed"
   ]
  },
  {
   "cell_type": "code",
   "execution_count": null,
   "metadata": {
    "collapsed": true,
    "scrolled": false
   },
   "outputs": [],
   "source": [
    "# select colums that start with a text string\n",
    "# starts_with()\n",
    "# select all columns that start with \"m\"\n",
    "mpg %>% \n",
    "   ___(___(\"m\")) %>% \n",
    "   ___()"
   ]
  },
  {
   "cell_type": "code",
   "execution_count": null,
   "metadata": {
    "collapsed": true
   },
   "outputs": [],
   "source": [
    "# select columns that end with 'y'\n",
    "# ends_with()\n",
    "mpg %>% \n",
    "   ___(___(\"y\")) %>% \n",
    "   ___()"
   ]
  },
  {
   "cell_type": "code",
   "execution_count": null,
   "metadata": {
    "collapsed": true,
    "scrolled": true
   },
   "outputs": [],
   "source": [
    "# select columns that contain \"an\"\n",
    "# contains()\n",
    "mpg %>% \n",
    "   ___(___(\"an\")) %>% \n",
    "   ___()"
   ]
  },
  {
   "cell_type": "code",
   "execution_count": null,
   "metadata": {
    "collapsed": true
   },
   "outputs": [],
   "source": [
    "# select columns that match a text pattern\n",
    "# matches() which uses a text pattern called regular expressions\n",
    "# match columns that contain an \"a\" and then an \"s\" later in the string\n",
    "mpg %>% \n",
    "   ___(___(\"a.*s\")) %>% \n",
    "   ___()\n",
    "\n",
    "# In regular expressions the '.' means any character\n",
    "# and the '*' modified the previous pattern character\n",
    "# adding 0 or more \"a.*s\" means look for an a \n",
    "# followed by 0 or more of any chararcter followed by an s"
   ]
  },
  {
   "cell_type": "code",
   "execution_count": null,
   "metadata": {
    "collapsed": true,
    "scrolled": false
   },
   "outputs": [],
   "source": [
    "# Reordering one column to the front\n",
    "# everything() means all columns not specified\n",
    "# select all columns with class at the beginning\n",
    "mpg %>% \n",
    "   ___(___, ___()) %>%\n",
    "   ___()"
   ]
  },
  {
   "cell_type": "code",
   "execution_count": null,
   "metadata": {
    "collapsed": true,
    "scrolled": false
   },
   "outputs": [],
   "source": [
    "# Combining it all together\n",
    "# displ as the first column renamed to displacement\n",
    "# followed by all columns containing \"r\" except for year\n",
    "# include all columns that end with \"y\"\n",
    "# include all columns that begin with the letter \"f\"\n",
    "mpg %>% \n",
    "   ___(___ = ___, ___(\"r\"), ___, ___(\"y\"), ___(\"f\")) %>% \n",
    "   ___()\n"
   ]
  }
 ],
 "metadata": {
  "kernelspec": {
   "display_name": "R",
   "language": "R",
   "name": "ir"
  },
  "language_info": {
   "codemirror_mode": "r",
   "file_extension": ".r",
   "mimetype": "text/x-r-source",
   "name": "R",
   "pygments_lexer": "r",
   "version": "3.3.2"
  }
 },
 "nbformat": 4,
 "nbformat_minor": 1
}
