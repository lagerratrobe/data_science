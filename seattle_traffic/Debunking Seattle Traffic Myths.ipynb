{
 "cells": [
  {
   "cell_type": "markdown",
   "metadata": {},
   "source": [
    "# Debunking Seattle Traffic Myths\n",
    "\n",
    "Every now and then, I run across an article that claims something that seems so contrary to my perceived daily experiences that I'm are forced to say, \"Huh?\".  That's the case with several articles posted by the [Sightline Institute](\"http://www.sightline.org/\") which claim that Seattle traffic has been steadily dropping since 2009.  Most notable to me was [this article](\"http://www.sightline.org/2014/02/19/collapsing-traffic-on-the-alaskan-way-viaduct/\") which boldy claims, \"traffic volumes on the Alaskan Way Viaduct have *collapsed* since the state started its construction project\".  The article goes on to posit that, \"Seattle can survive, and even thrive, without a viaduct or a tunnel.\"\n",
    "\n",
    "Really?  This I had to verify for myself.\n",
    "\n",
    "In order to verify this claim, I dowloaded traffic data from both the Seattle Depratment of Transportation (SDOT) and from the Washington State Department of Transportaion (WSDOT).  The SDOT data I looked at were the \"Traffic Flow Counts\" data sets.  These contain a value named \"AAWDT\" which is described on the data.seattle.gov website as being the, \"seasonally adjusted average weekday daily total of vehicle traffic for all lanes, i.e. total vehicles in both directions for one average 24-hour business day, Monday through Friday.\"\n",
    "\n",
    "This data set contains traffic counts for 256 locations in Seattle, of which 4 of them are on and off-ramps to the Alaskan Way viaduct.  It does not contain counts on Hwy. 99 itself, but we will look at data from WSDOT later that contains these values.  For now, it seems reasonable to assume that changes in the volume of traffic on 4 of the major on/off-ramps would be positively correlated to the overall volume on the entire viaduct.\n",
    "\n",
    "Here is what that data looks like:\n",
    "\n",
    "![Figure 1.](./ramp_summary2.png)"
   ]
  },
  {
   "cell_type": "code",
   "execution_count": 1,
   "metadata": {},
   "outputs": [
    {
     "name": "stdout",
     "output_type": "stream",
     "text": [
      "GEOBASID|DOWNTOWN|COMPKEY|OID_|NAME|SEGKEY|AAWDT\n",
      "60150010|Y|9738|250|\"COLUMBIA ST ON RP NE/O ALASKAN WY VI SB\"|9738|9500\n",
      "65700010|Y|10224|185|\"ELLIOTT AV ON RP NW/O ALASKAN WY VI SB\"|10224|16800\n",
      "96200010|Y|12786|193|\"SENECA ST OFF RP NE/O ALASKAN WY VI NB\"|12786|10100\n",
      "104300010|Y|13524|195|\"WESTERN AV OFF RP NW/O ALASKAN WY VI NB\"|13524|16700\n"
     ]
    }
   ],
   "source": [
    "!head -n1 SDOT_2007_Traffic_Flow_Counts.csv | \\\n",
    "awk -F\",\" '{print $4\"|\"$5\"|\" $6\"|\"$8\"|\"$9\"|\"$11\"|\"$12}'\n",
    "\n",
    "!grep -w \"ALASKAN WY VI\" SDOT_2007_Traffic_Flow_Counts.csv | \\\n",
    "awk -F\",\" '{print $4\"|\"$5\"|\"$6\"|\"$8\"|\"$9\"|\"$11\"|\"$12}' | sort -n"
   ]
  },
  {
   "cell_type": "markdown",
   "metadata": {},
   "source": [
    "We can use the GEOBASID to query the 2014 data set for the same locations"
   ]
  },
  {
   "cell_type": "code",
   "execution_count": 2,
   "metadata": {},
   "outputs": [
    {
     "name": "stdout",
     "output_type": "stream",
     "text": [
      "GEOBASID|STNAME|YEAR|AAWDT\n",
      "60150010|COLUMBIA ST ON RP|2014|10700\n",
      "65700010|ELLIOTT AV ON RP|2014|13600\n",
      "96200010|SENECA ST OFF RP|2014|7800\n",
      "104300010|WESTERN AV OFF RP|2014|16400\n"
     ]
    }
   ],
   "source": [
    "!head -n1 SDOT_2014_Traffic_Flow_Counts.csv | \\\n",
    "awk -F\",\" '{print $2\"|\"$5\"|\"$8\"|\"$10}'\n",
    "\n",
    "!egrep -w '65700010|104300010|96200010|60150010' SDOT_2014_Traffic_Flow_Counts.csv | \\\n",
    "awk -F\",\" '{print $2\"|\"$5\"|\"$8\"|\"$10}' | sort -n"
   ]
  },
  {
   "cell_type": "markdown",
   "metadata": {},
   "source": [
    "Now that we've identified the fields and records that we need, it's easier to work with them and analyze the data after we import it into Pandas."
   ]
  },
  {
   "cell_type": "code",
   "execution_count": 3,
   "metadata": {
    "collapsed": true
   },
   "outputs": [],
   "source": [
    "# NEED TO GET THESE INTO PANDAS\n",
    "\n",
    "import pandas as pd\n",
    "\n",
    "# load separate CSV files into data frames and use the GEOBASID column as an index\n",
    "data_2007 = pd.read_csv('SDOT_2007_Traffic_Flow_Counts.csv', index_col=['GEOBASID'])\n",
    "data_2008 = pd.read_csv('SDOT_2008_Traffic_Flow_Counts.csv', index_col=['GEOBASID'])\n",
    "data_2009 = pd.read_csv('SDOT_2009_Traffic_Flow_Counts.csv', index_col=['GEOBASID'])\n",
    "data_2010 = pd.read_csv('SDOT_2010_Traffic_Flow_Counts.csv', index_col=['GEOBASID'])\n",
    "data_2011 = pd.read_csv('SDOT_2011_Traffic_Flow_Counts.csv', index_col=['GEOBASID'])\n",
    "data_2012 = pd.read_csv('SDOT_2012_Traffic_Flow_Counts.csv', index_col=['GEOBASID'])\n",
    "data_2013 = pd.read_csv('SDOT_2013_Traffic_Flow_Counts.csv', index_col=['GEOBASID'])\n",
    "data_2014 = pd.read_csv('SDOT_2014_Traffic_Flow_Counts.csv', index_col=['GEOBASID'])\n",
    "\n",
    "#pull just the AAWDT data for the 4 GEOBASID values we care about\n",
    "alaska_way_vi_2007 = data_2007['AAWDT'].loc[[60150010, 65700010, 96200010, 104300010]]\n",
    "alaska_way_vi_2008 = data_2008['AAWDT'].loc[[60150010, 65700010, 96200010, 104300010]]\n",
    "alaska_way_vi_2009 = data_2009['AAWDT'].loc[[60150010, 65700010, 96200010, 104300010]]\n",
    "alaska_way_vi_2010 = data_2010['AAWDT'].loc[[60150010, 65700010, 96200010, 104300010]]\n",
    "alaska_way_vi_2011 = data_2011['AAWDT'].loc[[60150010, 65700010, 96200010, 104300010]]\n",
    "alaska_way_vi_2012 = data_2012['AAWDT'].loc[[60150010, 65700010, 96200010, 104300010]]\n",
    "alaska_way_vi_2013 = data_2013['AAWDT'].loc[[60150010, 65700010, 96200010, 104300010]]\n",
    "alaska_way_vi_2014 = data_2014['AAWDT'].loc[[60150010, 65700010, 96200010, 104300010]]\n",
    "\n",
    "# Create new series with summed values and year as index entry\n",
    "summed_data = pd.Series([alaska_way_vi_2007.sum(),\n",
    "                         alaska_way_vi_2008.sum(),\n",
    "                         alaska_way_vi_2009.sum(),\n",
    "                         alaska_way_vi_2010.sum(),\n",
    "                         alaska_way_vi_2011.sum(),\n",
    "                         alaska_way_vi_2012.sum(),\n",
    "                         alaska_way_vi_2013.sum(),\n",
    "                         alaska_way_vi_2014.sum()],\n",
    "                        index=[2007, 2008, 2009, 2010, 2011, 2012, 2013, 2014])\n"
   ]
  },
  {
   "cell_type": "code",
   "execution_count": 4,
   "metadata": {},
   "outputs": [
    {
     "name": "stderr",
     "output_type": "stream",
     "text": [
      "/usr/local/anaconda2/lib/python2.7/site-packages/matplotlib/font_manager.py:1297: UserWarning: findfont: Font family [u'sans-serif'] not found. Falling back to DejaVu Sans\n",
      "  (prop.get_family(), self.defaultFamily[fontext]))\n"
     ]
    },
    {
     "data": {
      "image/png": "[encoded data removed]",
      "text/plain": [
       "<matplotlib.figure.Figure at 0x79fb4f300290>"
      ]
     },
     "metadata": {},
     "output_type": "display_data"
    }
   ],
   "source": [
    "%matplotlib inline\n",
    "import seaborn as sb\n",
    "from matplotlib import pyplot as plt\n",
    "\n",
    "plt.rcParams['font.family'] = 'DejaVu Sans'\n",
    "plt.rcParams['font.sans-serif'].insert(0, 'DejaVu Sans')\n",
    "plt.style.use(['fivethirtyeight', 'seaborn-notebook'])\n",
    "\n",
    "sb.set(style='ticks')\n",
    "plt.figure(figsize=(8, 6), dpi= 80, facecolor='w', edgecolor='k')\n",
    "plt.plot(summed_data, color='green', marker='o', linestyle='solid')\n",
    "plt.title(\"Change in Alaskan Way On/Off Ramp Traffic\")\n",
    "plt.ylabel(\"Sum of Average Weekday Traffic\")\n",
    "plt.ylim(ymin=0, ymax=70000) # SET THE MIN VALUE TO 0\n",
    "sb.despine()"
   ]
  },
  {
   "cell_type": "code",
   "execution_count": 5,
   "metadata": {},
   "outputs": [
    {
     "data": {
      "text/plain": [
       "2007    53100.0\n",
       "2008    50500.0\n",
       "2009    53500.0\n",
       "2010    59200.0\n",
       "2011    55700.0\n",
       "2012    62009.0\n",
       "2013    55000.0\n",
       "2014    48500.0\n",
       "dtype: float64"
      ]
     },
     "execution_count": 5,
     "metadata": {},
     "output_type": "execute_result"
    }
   ],
   "source": [
    "summed_data"
   ]
  },
  {
   "cell_type": "code",
   "execution_count": 6,
   "metadata": {},
   "outputs": [
    {
     "data": {
      "text/html": [
       "<div>\n",
       "<style>\n",
       "    .dataframe thead tr:only-child th {\n",
       "        text-align: right;\n",
       "    }\n",
       "\n",
       "    .dataframe thead th {\n",
       "        text-align: left;\n",
       "    }\n",
       "\n",
       "    .dataframe tbody tr th {\n",
       "        vertical-align: top;\n",
       "    }\n",
       "</style>\n",
       "<table border=\"1\" class=\"dataframe\">\n",
       "  <thead>\n",
       "    <tr style=\"text-align: right;\">\n",
       "      <th></th>\n",
       "      <th>SiteId</th>\n",
       "      <th>SiteLocation</th>\n",
       "      <th>Date</th>\n",
       "      <th>DayOfWeek</th>\n",
       "      <th>TravelDirection</th>\n",
       "      <th>Hour1</th>\n",
       "      <th>Hour2</th>\n",
       "      <th>Hour3</th>\n",
       "      <th>Hour4</th>\n",
       "      <th>Hour5</th>\n",
       "    </tr>\n",
       "  </thead>\n",
       "  <tbody>\n",
       "    <tr>\n",
       "      <th>0</th>\n",
       "      <td>R101N</td>\n",
       "      <td>On SR 099 at milepost 29.37 A: N/O SPOKANE STR...</td>\n",
       "      <td>2007-06-23 00:00:00</td>\n",
       "      <td>Saturday</td>\n",
       "      <td>Southbound</td>\n",
       "      <td>692</td>\n",
       "      <td>564</td>\n",
       "      <td>449</td>\n",
       "      <td>207</td>\n",
       "      <td>221</td>\n",
       "    </tr>\n",
       "    <tr>\n",
       "      <th>1</th>\n",
       "      <td>R101N</td>\n",
       "      <td>On SR 099 at milepost 29.37 A: N/O SPOKANE STR...</td>\n",
       "      <td>2007-11-21 00:00:00</td>\n",
       "      <td>Wednesday</td>\n",
       "      <td>Southbound</td>\n",
       "      <td>396</td>\n",
       "      <td>251</td>\n",
       "      <td>214</td>\n",
       "      <td>154</td>\n",
       "      <td>314</td>\n",
       "    </tr>\n",
       "  </tbody>\n",
       "</table>\n",
       "</div>"
      ],
      "text/plain": [
       "  SiteId                                       SiteLocation  \\\n",
       "0  R101N  On SR 099 at milepost 29.37 A: N/O SPOKANE STR...   \n",
       "1  R101N  On SR 099 at milepost 29.37 A: N/O SPOKANE STR...   \n",
       "\n",
       "                  Date  DayOfWeek TravelDirection  Hour1  Hour2  Hour3  Hour4  \\\n",
       "0  2007-06-23 00:00:00   Saturday      Southbound    692    564    449    207   \n",
       "1  2007-11-21 00:00:00  Wednesday      Southbound    396    251    214    154   \n",
       "\n",
       "   Hour5  \n",
       "0    221  \n",
       "1    314  "
      ]
     },
     "execution_count": 6,
     "metadata": {},
     "output_type": "execute_result"
    }
   ],
   "source": [
    "# Load data into data frame\n",
    "wsdot_data = pd.read_csv('./wsdot/Traffic_Volume_by_Hour_R101N_2007-01_2017-05.csv')\n",
    "\n",
    "# Diplay 2 rows and 10 columns from the loaded data\n",
    "wsdot_data.iloc[:2,:10]"
   ]
  }
 ],
 "metadata": {
  "kernelspec": {
   "display_name": "Python 2",
   "language": "python",
   "name": "python2"
  },
  "language_info": {
   "codemirror_mode": {
    "name": "ipython",
    "version": 2
   },
   "file_extension": ".py",
   "mimetype": "text/x-python",
   "name": "python",
   "nbconvert_exporter": "python",
   "pygments_lexer": "ipython2",
   "version": "2.7.13"
  }
 },
 "nbformat": 4,
 "nbformat_minor": 2
}
