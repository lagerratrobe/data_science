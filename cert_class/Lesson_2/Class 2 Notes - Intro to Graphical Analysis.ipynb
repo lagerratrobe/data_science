{
 "cells": [
  {
   "cell_type": "markdown",
   "metadata": {},
   "source": [
    "## Intro to R\n",
    "\n",
    "### Library Best Practices\n",
    "- only load what you need\n",
    "- load most important packages forst\n",
    "\n",
    "### Tidyverse\n",
    "- Suite of R Packages\n",
    "\n",
    "`\n",
    "library(tidyverse)\n",
    "`\n",
    "- loads the Tidyverse packages into R\n",
    "(when conflicts exist, use the alternate method to specify package)\n",
    "- This class uses the Tidyverse solutions as the preferred method, instead of \"Base R\"\n",
    "\n",
    "`\n",
    "dplyr::glimpse\n",
    "`\n",
    "### The Dataframe and Tibble\n",
    "The Dataframe can inherit from and be extended.  Tibble is the tidyverse extension of the R dataframe.\n",
    "Tibble is an enhanced dataframe. ```glimpse()``` exposes the dataframe.\n",
    "\n",
    "### The Grammar of Graphics\n",
    "Coherent system of describing abd building graphs. ```ggplot``` is based on this system.  GGPLOT can be used from within PowerBI as well.  ggplot uses layers.  So if you add a trend line to s acatter plot, the trendline is an additional layer.  ```ggplot(data = my_dataframe) +``` Categorical column names can be renamed in ggplot."
   ]
  },
  {
   "cell_type": "markdown",
   "metadata": {},
   "source": [
    "## More plotting\n",
    "- Trend Lines\n",
    "- Over plotting\n",
    "- Categorical Variables\n",
    "- Data subsetting\n",
    "- ...\n"
   ]
  },
  {
   "cell_type": "code",
   "execution_count": null,
   "metadata": {
    "collapsed": true
   },
   "outputs": [],
   "source": []
  }
 ],
 "metadata": {
  "kernelspec": {
   "display_name": "Python 2",
   "language": "python",
   "name": "python2"
  },
  "language_info": {
   "codemirror_mode": {
    "name": "ipython",
    "version": 2
   },
   "file_extension": ".py",
   "mimetype": "text/x-python",
   "name": "python",
   "nbconvert_exporter": "python",
   "pygments_lexer": "ipython2",
   "version": "2.7.13"
  }
 },
 "nbformat": 4,
 "nbformat_minor": 2
}
