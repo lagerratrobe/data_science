{
 "cells": [
  {
   "cell_type": "code",
   "execution_count": 1,
   "metadata": {},
   "outputs": [
    {
     "name": "stderr",
     "output_type": "stream",
     "text": [
      "Loading tidyverse: ggplot2\n",
      "Loading tidyverse: tibble\n",
      "Loading tidyverse: tidyr\n",
      "Loading tidyverse: readr\n",
      "Loading tidyverse: purrr\n",
      "Loading tidyverse: dplyr\n",
      "Conflicts with tidy packages ---------------------------------------------------\n",
      "filter(): dplyr, stats\n",
      "lag():    dplyr, stats\n",
      "\n",
      "Attaching package: ‘lubridate’\n",
      "\n",
      "The following object is masked from ‘package:base’:\n",
      "\n",
      "    date\n",
      "\n"
     ]
    }
   ],
   "source": [
    "library(tidyverse)\n",
    "library(lubridate)\n",
    "library(stringr)"
   ]
  },
  {
   "cell_type": "code",
   "execution_count": 2,
   "metadata": {},
   "outputs": [
    {
     "name": "stdout",
     "output_type": "stream",
     "text": [
      "Observations: 136\n",
      "Variables: 4\n",
      "$ Date   <chr> \"1-Jul-17\", \"2-Jul-17\", \"3-Jul-17\", \"4-Jul-17\", \"5-Jul-17\", ...\n",
      "$ Cost   <chr> \"$195.79 \", \"$197.27 \", \"$193.24 \", \"$180.57 \", \"$222.57 \", ...\n",
      "$ Clicks <int> 284, 289, 278, 261, 319, 312, 311, 416, 359, 436, 207, 319, ...\n",
      "$ Avg    <chr> \"$0.69 \", \"$0.68 \", \"$0.70 \", \"$0.69 \", \"$0.70 \", \"$0.56 \", ...\n"
     ]
    }
   ],
   "source": [
    "# Use stringsAsFactors=FALSE or dollar values get loaded as factors\n",
    "adwords <- read.csv('adwords_clicks.csv', stringsAsFactors=FALSE)\n",
    "glimpse(adwords)"
   ]
  },
  {
   "cell_type": "code",
   "execution_count": 3,
   "metadata": {},
   "outputs": [
    {
     "name": "stdout",
     "output_type": "stream",
     "text": [
      "Observations: 136\n",
      "Variables: 4\n",
      "$ Date   <chr> \"1-Jul-17\", \"2-Jul-17\", \"3-Jul-17\", \"4-Jul-17\", \"5-Jul-17\", ...\n",
      "$ Cost   <dbl> 195.79, 197.27, 193.24, 180.57, 222.57, 175.78, 153.65, 222....\n",
      "$ Clicks <int> 284, 289, 278, 261, 319, 312, 311, 416, 359, 436, 207, 319, ...\n",
      "$ Avg    <dbl> 0.69, 0.68, 0.70, 0.69, 0.70, 0.56, 0.49, 0.54, 0.58, 0.49, ...\n"
     ]
    }
   ],
   "source": [
    "# Convert the quantitative data fields into numeric data types\n",
    "\n",
    "adwords$Cost <- adwords$Cost %>% str_sub(2,-1) %>% as.numeric()\n",
    "adwords$Avg <- adwords$Avg %>% str_sub(2,-1) %>% as.numeric()\n",
    "\n",
    "glimpse(adwords)"
   ]
  },
  {
   "cell_type": "code",
   "execution_count": 4,
   "metadata": {},
   "outputs": [
    {
     "data": {
      "text/html": [
       "<table>\n",
       "<thead><tr><th scope=col>Date</th><th scope=col>Cost</th><th scope=col>Clicks</th><th scope=col>Avg</th><th scope=col>YMD</th></tr></thead>\n",
       "<tbody>\n",
       "\t<tr><td>1-Jul-17  </td><td>195.79    </td><td>284       </td><td>0.69      </td><td>2017-07-01</td></tr>\n",
       "\t<tr><td>2-Jul-17  </td><td>197.27    </td><td>289       </td><td>0.68      </td><td>2017-07-02</td></tr>\n",
       "\t<tr><td>3-Jul-17  </td><td>193.24    </td><td>278       </td><td>0.70      </td><td>2017-07-03</td></tr>\n",
       "\t<tr><td>4-Jul-17  </td><td>180.57    </td><td>261       </td><td>0.69      </td><td>2017-07-04</td></tr>\n",
       "\t<tr><td>5-Jul-17  </td><td>222.57    </td><td>319       </td><td>0.70      </td><td>2017-07-05</td></tr>\n",
       "\t<tr><td>6-Jul-17  </td><td>175.78    </td><td>312       </td><td>0.56      </td><td>2017-07-06</td></tr>\n",
       "</tbody>\n",
       "</table>\n"
      ],
      "text/latex": [
       "\\begin{tabular}{r|lllll}\n",
       " Date & Cost & Clicks & Avg & YMD\\\\\n",
       "\\hline\n",
       "\t 1-Jul-17   & 195.79     & 284        & 0.69       & 2017-07-01\\\\\n",
       "\t 2-Jul-17   & 197.27     & 289        & 0.68       & 2017-07-02\\\\\n",
       "\t 3-Jul-17   & 193.24     & 278        & 0.70       & 2017-07-03\\\\\n",
       "\t 4-Jul-17   & 180.57     & 261        & 0.69       & 2017-07-04\\\\\n",
       "\t 5-Jul-17   & 222.57     & 319        & 0.70       & 2017-07-05\\\\\n",
       "\t 6-Jul-17   & 175.78     & 312        & 0.56       & 2017-07-06\\\\\n",
       "\\end{tabular}\n"
      ],
      "text/markdown": [
       "\n",
       "Date | Cost | Clicks | Avg | YMD | \n",
       "|---|---|---|---|---|---|\n",
       "| 1-Jul-17   | 195.79     | 284        | 0.69       | 2017-07-01 | \n",
       "| 2-Jul-17   | 197.27     | 289        | 0.68       | 2017-07-02 | \n",
       "| 3-Jul-17   | 193.24     | 278        | 0.70       | 2017-07-03 | \n",
       "| 4-Jul-17   | 180.57     | 261        | 0.69       | 2017-07-04 | \n",
       "| 5-Jul-17   | 222.57     | 319        | 0.70       | 2017-07-05 | \n",
       "| 6-Jul-17   | 175.78     | 312        | 0.56       | 2017-07-06 | \n",
       "\n",
       "\n"
      ],
      "text/plain": [
       "  Date     Cost   Clicks Avg  YMD       \n",
       "1 1-Jul-17 195.79 284    0.69 2017-07-01\n",
       "2 2-Jul-17 197.27 289    0.68 2017-07-02\n",
       "3 3-Jul-17 193.24 278    0.70 2017-07-03\n",
       "4 4-Jul-17 180.57 261    0.69 2017-07-04\n",
       "5 5-Jul-17 222.57 319    0.70 2017-07-05\n",
       "6 6-Jul-17 175.78 312    0.56 2017-07-06"
      ]
     },
     "metadata": {},
     "output_type": "display_data"
    },
    {
     "name": "stdout",
     "output_type": "stream",
     "text": [
      "Observations: 136\n",
      "Variables: 5\n",
      "$ Date   <chr> \"1-Jul-17\", \"2-Jul-17\", \"3-Jul-17\", \"4-Jul-17\", \"5-Jul-17\", ...\n",
      "$ Cost   <dbl> 195.79, 197.27, 193.24, 180.57, 222.57, 175.78, 153.65, 222....\n",
      "$ Clicks <int> 284, 289, 278, 261, 319, 312, 311, 416, 359, 436, 207, 319, ...\n",
      "$ Avg    <dbl> 0.69, 0.68, 0.70, 0.69, 0.70, 0.56, 0.49, 0.54, 0.58, 0.49, ...\n",
      "$ YMD    <date> 2017-07-01, 2017-07-02, 2017-07-03, 2017-07-04, 2017-07-05,...\n"
     ]
    }
   ],
   "source": [
    "# Use a regular expression substitution to reorder the Date field and pass it into ymd() to\n",
    "# convert it into a datetime field. Create new \"YMD\" field from it.\n",
    "\n",
    "adwords$YMD <- sub(\"([0-9]+)-([A-Za-z]+)-([0-9]+)\",\"\\\\3 \\\\2 \\\\1\", adwords$Date) %>% ymd()\n",
    "head(adwords)\n",
    "glimpse(adwords)"
   ]
  },
  {
   "cell_type": "code",
   "execution_count": 5,
   "metadata": {},
   "outputs": [
    {
     "data": {
      "text/html": [
       "<table>\n",
       "<thead><tr><th scope=col>Date</th><th scope=col>Cost</th><th scope=col>Clicks</th><th scope=col>Avg</th><th scope=col>YMD</th><th scope=col>Month</th><th scope=col>Weekday</th></tr></thead>\n",
       "<tbody>\n",
       "\t<tr><td>1-Jul-17  </td><td>195.79    </td><td>284       </td><td>0.69      </td><td>2017-07-01</td><td>July      </td><td>Saturday  </td></tr>\n",
       "\t<tr><td>2-Jul-17  </td><td>197.27    </td><td>289       </td><td>0.68      </td><td>2017-07-02</td><td>July      </td><td>Sunday    </td></tr>\n",
       "\t<tr><td>3-Jul-17  </td><td>193.24    </td><td>278       </td><td>0.70      </td><td>2017-07-03</td><td>July      </td><td>Monday    </td></tr>\n",
       "\t<tr><td>4-Jul-17  </td><td>180.57    </td><td>261       </td><td>0.69      </td><td>2017-07-04</td><td>July      </td><td>Tuesday   </td></tr>\n",
       "\t<tr><td>5-Jul-17  </td><td>222.57    </td><td>319       </td><td>0.70      </td><td>2017-07-05</td><td>July      </td><td>Wednesday </td></tr>\n",
       "\t<tr><td>6-Jul-17  </td><td>175.78    </td><td>312       </td><td>0.56      </td><td>2017-07-06</td><td>July      </td><td>Thursday  </td></tr>\n",
       "</tbody>\n",
       "</table>\n"
      ],
      "text/latex": [
       "\\begin{tabular}{r|lllllll}\n",
       " Date & Cost & Clicks & Avg & YMD & Month & Weekday\\\\\n",
       "\\hline\n",
       "\t 1-Jul-17   & 195.79     & 284        & 0.69       & 2017-07-01 & July       & Saturday  \\\\\n",
       "\t 2-Jul-17   & 197.27     & 289        & 0.68       & 2017-07-02 & July       & Sunday    \\\\\n",
       "\t 3-Jul-17   & 193.24     & 278        & 0.70       & 2017-07-03 & July       & Monday    \\\\\n",
       "\t 4-Jul-17   & 180.57     & 261        & 0.69       & 2017-07-04 & July       & Tuesday   \\\\\n",
       "\t 5-Jul-17   & 222.57     & 319        & 0.70       & 2017-07-05 & July       & Wednesday \\\\\n",
       "\t 6-Jul-17   & 175.78     & 312        & 0.56       & 2017-07-06 & July       & Thursday  \\\\\n",
       "\\end{tabular}\n"
      ],
      "text/markdown": [
       "\n",
       "Date | Cost | Clicks | Avg | YMD | Month | Weekday | \n",
       "|---|---|---|---|---|---|\n",
       "| 1-Jul-17   | 195.79     | 284        | 0.69       | 2017-07-01 | July       | Saturday   | \n",
       "| 2-Jul-17   | 197.27     | 289        | 0.68       | 2017-07-02 | July       | Sunday     | \n",
       "| 3-Jul-17   | 193.24     | 278        | 0.70       | 2017-07-03 | July       | Monday     | \n",
       "| 4-Jul-17   | 180.57     | 261        | 0.69       | 2017-07-04 | July       | Tuesday    | \n",
       "| 5-Jul-17   | 222.57     | 319        | 0.70       | 2017-07-05 | July       | Wednesday  | \n",
       "| 6-Jul-17   | 175.78     | 312        | 0.56       | 2017-07-06 | July       | Thursday   | \n",
       "\n",
       "\n"
      ],
      "text/plain": [
       "  Date     Cost   Clicks Avg  YMD        Month Weekday  \n",
       "1 1-Jul-17 195.79 284    0.69 2017-07-01 July  Saturday \n",
       "2 2-Jul-17 197.27 289    0.68 2017-07-02 July  Sunday   \n",
       "3 3-Jul-17 193.24 278    0.70 2017-07-03 July  Monday   \n",
       "4 4-Jul-17 180.57 261    0.69 2017-07-04 July  Tuesday  \n",
       "5 5-Jul-17 222.57 319    0.70 2017-07-05 July  Wednesday\n",
       "6 6-Jul-17 175.78 312    0.56 2017-07-06 July  Thursday "
      ]
     },
     "metadata": {},
     "output_type": "display_data"
    },
    {
     "name": "stdout",
     "output_type": "stream",
     "text": [
      "Observations: 136\n",
      "Variables: 7\n",
      "$ Date    <chr> \"1-Jul-17\", \"2-Jul-17\", \"3-Jul-17\", \"4-Jul-17\", \"5-Jul-17\",...\n",
      "$ Cost    <dbl> 195.79, 197.27, 193.24, 180.57, 222.57, 175.78, 153.65, 222...\n",
      "$ Clicks  <int> 284, 289, 278, 261, 319, 312, 311, 416, 359, 436, 207, 319,...\n",
      "$ Avg     <dbl> 0.69, 0.68, 0.70, 0.69, 0.70, 0.56, 0.49, 0.54, 0.58, 0.49,...\n",
      "$ YMD     <date> 2017-07-01, 2017-07-02, 2017-07-03, 2017-07-04, 2017-07-05...\n",
      "$ Month   <ord> July, July, July, July, July, July, July, July, July, July,...\n",
      "$ Weekday <ord> Saturday, Sunday, Monday, Tuesday, Wednesday, Thursday, Fri...\n"
     ]
    }
   ],
   "source": [
    "# Add some columns that convert the datetime into a month and a weekday\n",
    "adwords$Month <- adwords$YMD %>% month(label=TRUE, abbr = FALSE)\n",
    "adwords$Weekday <- adwords$YMD %>% wday(label=TRUE, abbr = FALSE)\n",
    "head(adwords)\n",
    "glimpse(adwords)"
   ]
  },
  {
   "cell_type": "code",
   "execution_count": 7,
   "metadata": {},
   "outputs": [],
   "source": [
    "write_csv(adwords, \"adwords_w_dates.csv\")\n"
   ]
  },
  {
   "cell_type": "code",
   "execution_count": 8,
   "metadata": {},
   "outputs": [
    {
     "data": {
      "text/html": [
       "<ol class=list-inline>\n",
       "\t<li>'AdWords Date analysis.ipynb'</li>\n",
       "\t<li>'adwords_clicks.csv'</li>\n",
       "\t<li>'adwords_w_dates.csv'</li>\n",
       "</ol>\n"
      ],
      "text/latex": [
       "\\begin{enumerate*}\n",
       "\\item 'AdWords Date analysis.ipynb'\n",
       "\\item 'adwords\\_clicks.csv'\n",
       "\\item 'adwords\\_w\\_dates.csv'\n",
       "\\end{enumerate*}\n"
      ],
      "text/markdown": [
       "1. 'AdWords Date analysis.ipynb'\n",
       "2. 'adwords_clicks.csv'\n",
       "3. 'adwords_w_dates.csv'\n",
       "\n",
       "\n"
      ],
      "text/plain": [
       "[1] \"AdWords Date analysis.ipynb\" \"adwords_clicks.csv\"         \n",
       "[3] \"adwords_w_dates.csv\"        "
      ]
     },
     "metadata": {},
     "output_type": "display_data"
    }
   ],
   "source": [
    "dir()"
   ]
  }
 ],
 "metadata": {
  "kernelspec": {
   "display_name": "R",
   "language": "R",
   "name": "ir"
  },
  "language_info": {
   "codemirror_mode": "r",
   "file_extension": ".r",
   "mimetype": "text/x-r-source",
   "name": "R",
   "pygments_lexer": "r",
   "version": "3.4.2"
  }
 },
 "nbformat": 4,
 "nbformat_minor": 2
}
