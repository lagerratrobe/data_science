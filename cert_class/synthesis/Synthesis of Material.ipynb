{
 "cells": [
  {
   "cell_type": "markdown",
   "metadata": {},
   "source": [
    "## Basics of Data Analysis,  November 15, 2017\n",
    "\n",
    "This work is intended to synthesize concepts of Data Analysis that have been presented to me in classes, books and other written materials.  In no way do I claim any sort of originality to the material here, just that it is organized in a manner that I understand and find useful.  Please feel free to point out errors, or suggestions for improvement, to my Twitter alias, @lagerratrobe."
   ]
  },
  {
   "cell_type": "markdown",
   "metadata": {},
   "source": [
    "### What is Data Analysis?\n",
    "\n",
    "Simply put, Data Analysis is the term used to describe the process of examining data for the purpose of obtaining insights from it and then communicating them to others.  This process is usually broken down into 5 components:\n",
    "\n",
    "  1. Form a question\n",
    "  2. Find/Wrangle data\n",
    "  3. Explore the data\n",
    "  4. Analyze the data\n",
    "  5. Communicate results of analysis\n",
    "  \n",
    "Sometimes the order of the steps is changed, for example it might be necessary to Explore the data before you can Wrangle it to suit the needs of your analysis.  Sometimes you might not even go through all steps.  You might stop at the Data Exploration or even Wrangling step because you find that your data is unsuitable, but usually all of the steps are present when analyzing a data set.\n"
   ]
  },
  {
   "cell_type": "markdown",
   "metadata": {},
   "source": [
    "### Goal of Data Analysis\n",
    "\n",
    "This can be many things, but generally it is to describe whether various factors have worked together to produce a certain outcome, to quantitatively describe how those factors relate to one another, and in some cases to create a model of those interactions which can be used to predict how future members of a data set will behave.  The end result of an analysis will usually be charts and figures that represent the data in various ways and that 'captures its essence'.  In cases where the desire is to predict future behavior, numerical models and programs might also be part of the end result.\n"
   ]
  },
  {
   "cell_type": "markdown",
   "metadata": {},
   "source": [
    "### What is Data?\n",
    "\n",
    "Data comes in an almost infinite variety of forms, but for our purposes it consists mostly of observations which are recorded in some fashion that allows us to collect them and review them at a later date.  Data can generally be broken down into 2 types; Structured Data, which is comprised of clearly definable data types expressed in a pattern that makes them searchable and for which a data model can be defined; and Unstructured Data, which is sometime jokingly referred to as \"everything else\".  A classic example of a Structured Data set would be a spreadsheet with data stored in rows and columns.  An example of Unstructured Data would be a photograph or all the text of a book.  A key point to keep in mind is that Unstructured Data often is highly structured, but either has not yet been modeled, or the means of modeling it have not yet been discovered.  For the 2 examples above of Unstructured Data, there now exist many ways of extracting, organizing and analyzing data from them.  The methods and techniques covered here are intended for use on Structured Data sets."
   ]
  },
  {
   "cell_type": "markdown",
   "metadata": {},
   "source": [
    "### Data Types\n",
    "\n",
    "In order to accurately and efficiently analyze a data set, it is important to identify what types of data are in it.  When looking at a data set for the first time, identify whether the data falls into the following cateories:\n",
    "\n",
    "*  Quantitative: can be expressed as a number and quantified\n",
    "    1. *Discrete*: cannot be subdivided into smaller chunks, integer (ie. number of children, or pets, in a family)\n",
    "    2. *Continuous*: can be subdivided into smaller amounts, real number (ie. weight of an object, length )  \n",
    "*  Qualitative: expressed as text\n",
    "    1.  *Binary*: Can only be represented in 2 ways (ie. on or off, true or false, faulty or non-faulty)\n",
    "    2.  *Nominal*: Can take on more than 2 values, but have no order (ie. defect category, religion, race)\n",
    "    3.  *Ordinal*: Can take more than 2 values and has a natural order (ie. A-F letter grades, 1-10 survey scale)\n",
    "    4.  *Categorical*: Sometimes viewed as a subset of qualitative data types, but useful to recognize.\n",
    "\n",
    "__NOTE:__ \"data type\" in this section should not be confused with the representation, or storage type of an observation.  For example, as mentioned above, *Discrete* data should be represented as an integer, while *Continuous* data would be represented as a real number or double.  Qualitative data can always be stored as character or string data, even when it is made up of numbers, as in the \"1-10 Survey scale\" example.  Often, data that is imported from CSV files, or which has gone through other ETL processes, will need to have it's representation type changed. This is easy to do in most software packages and a key component of Data Wrangling.\n",
    "\n",
    "Knowing what data type a particular observation is helps you to determine what types of questions can be asked of it later.\n"
   ]
  },
  {
   "cell_type": "code",
   "execution_count": 43,
   "metadata": {
    "collapsed": true
   },
   "outputs": [],
   "source": [
    "#Import pandas, matplotlib and seaborn\n",
    "\n",
    "import numpy as np\n",
    "import pandas as pd\n",
    "%matplotlib inline\n",
    "import matplotlib.pyplot as plt\n",
    "import seaborn as sb"
   ]
  },
  {
   "cell_type": "code",
   "execution_count": 3,
   "metadata": {},
   "outputs": [
    {
     "name": "stdout",
     "output_type": "stream",
     "text": [
      "<class 'pandas.core.frame.DataFrame'>\n",
      "RangeIndex: 32 entries, 0 to 31\n",
      "Data columns (total 12 columns):\n",
      "vehicle    32 non-null object\n",
      "mpg        32 non-null float64\n",
      "cyl        32 non-null int64\n",
      "disp       32 non-null float64\n",
      "hp         32 non-null int64\n",
      "drat       32 non-null float64\n",
      "wt         32 non-null float64\n",
      "qsec       32 non-null float64\n",
      "vs         32 non-null int64\n",
      "am         32 non-null int64\n",
      "gear       32 non-null int64\n",
      "carb       32 non-null int64\n",
      "dtypes: float64(5), int64(6), object(1)\n",
      "memory usage: 3.1+ KB\n"
     ]
    }
   ],
   "source": [
    "mtcars = pd.read_csv('mtcars.csv')\n",
    "mtcars.info()"
   ]
  },
  {
   "cell_type": "markdown",
   "metadata": {},
   "source": [
    "## Metadata\n",
    "\n",
    "```\n",
    "The data was extracted from the 1974 Motor Trend US magazine, and comprises fuel consumption and 10 aspects of automobile design and performance for 32 automobiles (1973–74 models).\n",
    "\n",
    "mpg  - Miles/(US) gallon\n",
    "cyl  -Number of cylinders\n",
    "disp - Displacement (cu.in.)\n",
    "hp   - Gross horsepower\n",
    "drat - Rear axle ratio\n",
    "wt   - Weight (1000 lbs)\n",
    "qsec - 1/4 mile time\n",
    "vs   - V/S\n",
    "am   - Transmission (0 = automatic, 1 = manual)\n",
    "gear - Number of forward gears\n",
    "carb - Number of carburetors\n",
    "```"
   ]
  },
  {
   "cell_type": "code",
   "execution_count": 5,
   "metadata": {},
   "outputs": [
    {
     "data": {
      "text/html": [
       "<div>\n",
       "<style>\n",
       "    .dataframe thead tr:only-child th {\n",
       "        text-align: right;\n",
       "    }\n",
       "\n",
       "    .dataframe thead th {\n",
       "        text-align: left;\n",
       "    }\n",
       "\n",
       "    .dataframe tbody tr th {\n",
       "        vertical-align: top;\n",
       "    }\n",
       "</style>\n",
       "<table border=\"1\" class=\"dataframe\">\n",
       "  <thead>\n",
       "    <tr style=\"text-align: right;\">\n",
       "      <th></th>\n",
       "      <th>vehicle</th>\n",
       "      <th>mpg</th>\n",
       "      <th>cyl</th>\n",
       "      <th>disp</th>\n",
       "      <th>hp</th>\n",
       "      <th>drat</th>\n",
       "      <th>wt</th>\n",
       "      <th>qsec</th>\n",
       "      <th>vs</th>\n",
       "      <th>am</th>\n",
       "      <th>gear</th>\n",
       "      <th>carb</th>\n",
       "    </tr>\n",
       "  </thead>\n",
       "  <tbody>\n",
       "    <tr>\n",
       "      <th>0</th>\n",
       "      <td>Mazda RX4</td>\n",
       "      <td>21.0</td>\n",
       "      <td>6</td>\n",
       "      <td>160.0</td>\n",
       "      <td>110</td>\n",
       "      <td>3.9</td>\n",
       "      <td>2.620</td>\n",
       "      <td>16.46</td>\n",
       "      <td>0</td>\n",
       "      <td>1</td>\n",
       "      <td>4</td>\n",
       "      <td>4</td>\n",
       "    </tr>\n",
       "    <tr>\n",
       "      <th>1</th>\n",
       "      <td>Mazda RX4 Wag</td>\n",
       "      <td>21.0</td>\n",
       "      <td>6</td>\n",
       "      <td>160.0</td>\n",
       "      <td>110</td>\n",
       "      <td>3.9</td>\n",
       "      <td>2.875</td>\n",
       "      <td>17.02</td>\n",
       "      <td>0</td>\n",
       "      <td>1</td>\n",
       "      <td>4</td>\n",
       "      <td>4</td>\n",
       "    </tr>\n",
       "  </tbody>\n",
       "</table>\n",
       "</div>"
      ],
      "text/plain": [
       "         vehicle   mpg  cyl   disp   hp  drat     wt   qsec  vs  am  gear  \\\n",
       "0      Mazda RX4  21.0    6  160.0  110   3.9  2.620  16.46   0   1     4   \n",
       "1  Mazda RX4 Wag  21.0    6  160.0  110   3.9  2.875  17.02   0   1     4   \n",
       "\n",
       "   carb  \n",
       "0     4  \n",
       "1     4  "
      ]
     },
     "execution_count": 5,
     "metadata": {},
     "output_type": "execute_result"
    }
   ],
   "source": [
    "# 2 rows of the data\n",
    "mtcars.iloc[:2,:]"
   ]
  },
  {
   "cell_type": "code",
   "execution_count": 6,
   "metadata": {
    "collapsed": true
   },
   "outputs": [],
   "source": [
    "# Rename some of the more esoteric data fields\n",
    "\n",
    "mtcars.rename(columns={'drat': 'axle_ratio', 'am': 'manual', 'vs': 'inline'}, inplace=True)"
   ]
  },
  {
   "cell_type": "code",
   "execution_count": 7,
   "metadata": {},
   "outputs": [
    {
     "data": {
      "text/html": [
       "<div>\n",
       "<style>\n",
       "    .dataframe thead tr:only-child th {\n",
       "        text-align: right;\n",
       "    }\n",
       "\n",
       "    .dataframe thead th {\n",
       "        text-align: left;\n",
       "    }\n",
       "\n",
       "    .dataframe tbody tr th {\n",
       "        vertical-align: top;\n",
       "    }\n",
       "</style>\n",
       "<table border=\"1\" class=\"dataframe\">\n",
       "  <thead>\n",
       "    <tr style=\"text-align: right;\">\n",
       "      <th></th>\n",
       "      <th>vehicle</th>\n",
       "      <th>mpg</th>\n",
       "      <th>cyl</th>\n",
       "      <th>disp</th>\n",
       "      <th>hp</th>\n",
       "      <th>axle_ratio</th>\n",
       "      <th>wt</th>\n",
       "      <th>qsec</th>\n",
       "      <th>inline</th>\n",
       "      <th>manual</th>\n",
       "      <th>gear</th>\n",
       "      <th>carb</th>\n",
       "    </tr>\n",
       "  </thead>\n",
       "  <tbody>\n",
       "    <tr>\n",
       "      <th>0</th>\n",
       "      <td>Mazda RX4</td>\n",
       "      <td>21.0</td>\n",
       "      <td>6</td>\n",
       "      <td>160.0</td>\n",
       "      <td>110</td>\n",
       "      <td>3.9</td>\n",
       "      <td>2.620</td>\n",
       "      <td>16.46</td>\n",
       "      <td>0</td>\n",
       "      <td>1</td>\n",
       "      <td>4</td>\n",
       "      <td>4</td>\n",
       "    </tr>\n",
       "    <tr>\n",
       "      <th>1</th>\n",
       "      <td>Mazda RX4 Wag</td>\n",
       "      <td>21.0</td>\n",
       "      <td>6</td>\n",
       "      <td>160.0</td>\n",
       "      <td>110</td>\n",
       "      <td>3.9</td>\n",
       "      <td>2.875</td>\n",
       "      <td>17.02</td>\n",
       "      <td>0</td>\n",
       "      <td>1</td>\n",
       "      <td>4</td>\n",
       "      <td>4</td>\n",
       "    </tr>\n",
       "  </tbody>\n",
       "</table>\n",
       "</div>"
      ],
      "text/plain": [
       "         vehicle   mpg  cyl   disp   hp  axle_ratio     wt   qsec  inline  \\\n",
       "0      Mazda RX4  21.0    6  160.0  110         3.9  2.620  16.46       0   \n",
       "1  Mazda RX4 Wag  21.0    6  160.0  110         3.9  2.875  17.02       0   \n",
       "\n",
       "   manual  gear  carb  \n",
       "0       1     4     4  \n",
       "1       1     4     4  "
      ]
     },
     "execution_count": 7,
     "metadata": {},
     "output_type": "execute_result"
    }
   ],
   "source": [
    "# 2 rows of data again\n",
    "\n",
    "mtcars.iloc[:2,:]"
   ]
  },
  {
   "cell_type": "code",
   "execution_count": 8,
   "metadata": {},
   "outputs": [
    {
     "data": {
      "text/plain": [
       "['vehicle',\n",
       " 'mpg',\n",
       " 'cyl',\n",
       " 'disp',\n",
       " 'hp',\n",
       " 'axle_ratio',\n",
       " 'wt',\n",
       " 'qsec',\n",
       " 'inline',\n",
       " 'manual',\n",
       " 'gear',\n",
       " 'carb']"
      ]
     },
     "execution_count": 8,
     "metadata": {},
     "output_type": "execute_result"
    }
   ],
   "source": [
    "mtcars.columns.tolist()"
   ]
  },
  {
   "cell_type": "code",
   "execution_count": 39,
   "metadata": {},
   "outputs": [
    {
     "data": {
      "text/plain": [
       "15    10.4\n",
       "14    10.4\n",
       "23    13.3\n",
       "6     14.3\n",
       "16    14.7\n",
       "Name: mpg, dtype: float64"
      ]
     },
     "execution_count": 39,
     "metadata": {},
     "output_type": "execute_result"
    }
   ],
   "source": [
    "mtcars.mpg.sort_values().head()"
   ]
  },
  {
   "cell_type": "code",
   "execution_count": 73,
   "metadata": {
    "collapsed": true
   },
   "outputs": [],
   "source": [
    "?sb.set"
   ]
  },
  {
   "cell_type": "code",
   "execution_count": 74,
   "metadata": {},
   "outputs": [
    {
     "data": {
      "image/png": "[encoded data removed]",
      "text/plain": [
       "<matplotlib.figure.Figure at 0x7cc8b5055850>"
      ]
     },
     "metadata": {},
     "output_type": "display_data"
    }
   ],
   "source": [
    "\n",
    "from collections import defaultdict\n",
    "\n",
    "def make_dot_plot(column):\n",
    "    counter = defaultdict(int)\n",
    "    numbers = []\n",
    "    count = []\n",
    "    for value in column:\n",
    "        value = round(value)\n",
    "        counter[value] += 1\n",
    "        numbers.append(value)\n",
    "        count.append(counter[value])\n",
    "    x_values = np.array(numbers).astype(int)\n",
    "    y_values = np.array(count).astype(int)\n",
    "    df = pd.DataFrame({'x':x_values, 'y':y_values})\n",
    "    sb.lmplot(x='x', y='y', data=df, ci=None, fit_reg=False)\n",
    "\n",
    "make_dot_plot(mtcars.mpg)\n",
    "    "
   ]
  },
  {
   "cell_type": "code",
   "execution_count": 25,
   "metadata": {},
   "outputs": [
    {
     "data": {
      "text/plain": [
       "<matplotlib.axes._subplots.AxesSubplot at 0x7cc8b59f7490>"
      ]
     },
     "execution_count": 25,
     "metadata": {},
     "output_type": "execute_result"
    },
    {
     "data": {
      "image/png": "[encoded data removed]",
      "text/plain": [
       "<matplotlib.figure.Figure at 0x7cc8b5a023d0>"
      ]
     },
     "metadata": {},
     "output_type": "display_data"
    }
   ],
   "source": [
    "sb.distplot(mtcars.mpg, bins=10)"
   ]
  },
  {
   "cell_type": "code",
   "execution_count": 30,
   "metadata": {},
   "outputs": [
    {
     "data": {
      "text/plain": [
       "25.0"
      ]
     },
     "execution_count": 30,
     "metadata": {},
     "output_type": "execute_result"
    }
   ],
   "source": []
  }
 ],
 "metadata": {
  "kernelspec": {
   "display_name": "Python 2",
   "language": "python",
   "name": "python2"
  },
  "language_info": {
   "codemirror_mode": {
    "name": "ipython",
    "version": 2
   },
   "file_extension": ".py",
   "mimetype": "text/x-python",
   "name": "python",
   "nbconvert_exporter": "python",
   "pygments_lexer": "ipython2",
   "version": "2.7.13"
  }
 },
 "nbformat": 4,
 "nbformat_minor": 2
}
