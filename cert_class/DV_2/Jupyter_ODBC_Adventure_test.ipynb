{
 "cells": [
  {
   "cell_type": "code",
   "execution_count": 7,
   "metadata": {},
   "outputs": [],
   "source": [
    "library(\"RODBC\")\n",
    "library(\"tidyverse\")"
   ]
  },
  {
   "cell_type": "code",
   "execution_count": 9,
   "metadata": {},
   "outputs": [
    {
     "ename": "ERROR",
     "evalue": "Error in odbcConnectAccess(\"/mnt/d/Code/data_science/cert_class/DV_2/AdventureWorks_TRIMMED.accdb\"): could not find function \"odbcConnectAccess\"\n",
     "output_type": "error",
     "traceback": [
      "Error in odbcConnectAccess(\"/mnt/d/Code/data_science/cert_class/DV_2/AdventureWorks_TRIMMED.accdb\"): could not find function \"odbcConnectAccess\"\nTraceback:\n"
     ]
    }
   ],
   "source": [
    "channel = odbcConnectAccess(\"/mnt/d/Code/data_science/cert_class/DV_2/AdventureWorks_TRIMMED.accdb\")"
   ]
  }
 ],
 "metadata": {
  "anaconda-cloud": {},
  "kernelspec": {
   "display_name": "R",
   "language": "R",
   "name": "ir"
  },
  "language_info": {
   "codemirror_mode": "r",
   "file_extension": ".r",
   "mimetype": "text/x-r-source",
   "name": "R",
   "pygments_lexer": "r",
   "version": "3.4.2"
  }
 },
 "nbformat": 4,
 "nbformat_minor": 2
}
