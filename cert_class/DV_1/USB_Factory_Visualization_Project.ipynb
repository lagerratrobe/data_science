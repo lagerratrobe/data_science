{
 "cells": [
  {
   "cell_type": "markdown",
   "metadata": {},
   "source": [
    "#  USB Cables Defect Visualization Project\n",
    "\n",
    "### Goal: \n",
    "Develop a series of visualizations and a dashboad to monitor the rate of production defects across 3 different factories in US, CAN, MEX.\n",
    "\n",
    "Your task is to gather requirements, understand the current system (if any), and develop your KPIs. You will be filling out the Project Development & Planning TemplatePreview in a new window to guide you through the process, once you finish submit the template with your answers.  \n",
    "\n",
    "### Resources:\n",
    "1. __*Manufacturing Defects Database:*__ It records the manufacturing defects by sampling 1 of 100 items manufactured. \n",
    "2. __*Returns Database:*__ Database that records all returns\n",
    "3. __*Customer Complaints Database:*__ This database is currently being developed and is expected to be available in 30 days. Once available, it will also contain data from 6 months ago.\n",
    "\n"
   ]
  }
 ],
 "metadata": {
  "kernelspec": {
   "display_name": "Python 3",
   "language": "python",
   "name": "python3"
  },
  "language_info": {
   "codemirror_mode": {
    "name": "ipython",
    "version": 3
   },
   "file_extension": ".py",
   "mimetype": "text/x-python",
   "name": "python",
   "nbconvert_exporter": "python",
   "pygments_lexer": "ipython3",
   "version": "3.6.3"
  }
 },
 "nbformat": 4,
 "nbformat_minor": 2
}
