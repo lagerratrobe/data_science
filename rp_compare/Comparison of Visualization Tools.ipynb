{
 "cells": [
  {
   "cell_type": "code",
   "execution_count": 3,
   "metadata": {},
   "outputs": [
    {
     "name": "stdout",
     "output_type": "stream",
     "text": [
      "0    1505.879589\n",
      "1    1039.785086\n",
      "2     447.883531\n",
      "3     770.024740\n",
      "4    1337.791014\n",
      "dtype: float64\n"
     ]
    }
   ],
   "source": [
    "%matplotlib inline\n",
    "import matplotlib.pyplot as plt\n",
    "import pandas as pd\n",
    "import math\n",
    "import numpy\n",
    "\n",
    "def haversine(lon1, lat1, lon2, lat2):\n",
    "    # Convert coordinates to floats.\n",
    "    lon1, lat1, lon2, lat2 = [float(lon1), float(lat1), float(lon2), float(lat2)]\n",
    "    # Convert to radians from degrees.\n",
    "    lon1, lat1, lon2, lat2 = map(math.radians, [lon1, lat1, lon2, lat2])\n",
    "    # Compute distance.\n",
    "    dlon = lon2 - lon1 \n",
    "    dlat = lat2 - lat1 \n",
    "    a = math.sin(dlat/2)**2 + math.cos(lat1) * math.cos(lat2) * math.sin(dlon/2)**2\n",
    "    c = 2 * math.asin(math.sqrt(a)) \n",
    "    km = 6367 * c\n",
    "    return km\n",
    "\n",
    "def calc_dist(row):\n",
    "    dist = 0\n",
    "    try:\n",
    "        # Match source and destination to get coordinates.\n",
    "        source = airports[airports[\"id\"] == row[\"source_id\"]].iloc[0]\n",
    "        dest = airports[airports[\"id\"] == row[\"dest_id\"]].iloc[0]\n",
    "        # Use coordinates to compute distance.\n",
    "        dist = haversine(dest[\"longitude\"], dest[\"latitude\"], source[\"longitude\"], source[\"latitude\"])\n",
    "    except (ValueError, IndexError):\n",
    "        pass\n",
    "    return dist\n",
    "\n",
    "def lookup_name(row):\n",
    "    try:\n",
    "        # Match the row id to the id in the airlines dataframe so we can get the name.\n",
    "        name = airlines[\"name\"][airlines[\"id\"] == row[\"id\"]].iloc[0]\n",
    "    except (ValueError, IndexError):\n",
    "        name = \"\"\n",
    "    return name\n",
    "\n",
    "# Read in the airports data.\n",
    "airports = pd.read_csv(\"airports.dat\", header=None, dtype=str)\n",
    "airports.columns = [\"id\", \"name\", \"city\", \"country\", \"code\", \"icao\", \"latitude\",\n",
    "                    \"longitude\", \"altitude\", \"offset\", \"dst\", \"timezone\", \"type\", \"source\"]\n",
    "\n",
    "# Read in the airlines data.\n",
    "airlines = pd.read_csv(\"airlines.dat\", header=None, dtype=str)\n",
    "airlines.columns = [\"id\", \"name\", \"alias\", \"iata\", \"icao\", \"callsign\", \"country\", \"active\"]\n",
    "\n",
    "# Read in the routes data.\n",
    "routes = pd.read_csv(\"routes.dat\", header=None, dtype=str)\n",
    "routes.columns = [\"airline\", \"airline_id\", \"source\", \"source_id\", \"dest\", \"dest_id\", \"codeshare\", \n",
    "                  \"stops\", \"equipment\"]\n",
    "\n",
    "# Retains only rows in 'routes\" where the \"airline_id\" is not \"\\N\"\n",
    "routes = routes[routes[\"airline_id\"] != \"\\\\N\"]\n",
    "\n",
    "route_lengths = routes.apply(calc_dist, axis=1)\n",
    "\n",
    "# Put relevant columns into a dataframe.\n",
    "route_length_df = pd.DataFrame({\"length\": route_lengths, \"id\": routes[\"airline_id\"]})\n",
    "\n",
    "# Compute the mean route length per airline.\n",
    "airline_route_lengths = route_length_df.groupby(\"id\").aggregate(numpy.mean)\n",
    "\n",
    "# Sort by length so we can make a better chart.\n",
    "airline_route_lengths = airline_route_lengths.sort_values(\"length\", ascending=False)\n",
    "\n",
    "# Add the index (the airline ids) as a column.\n",
    "airline_route_lengths[\"id\"] = airline_route_lengths.index.copy()\n",
    "\n",
    "# Find all the airline names.\n",
    "airline_route_lengths[\"name\"] = airline_route_lengths.apply(lookup_name, axis=1)\n",
    "\n",
    "# Remove duplicate values in the index.\n",
    "airline_route_lengths.index = range(airline_route_lengths.shape[0])\n",
    "\n",
    "# BIN THE ROUTES INTO LONG, MED AND SHORT DISTANCES\n",
    "long_routes = len([k for k in route_lengths if k > 10000]) / len(route_lengths)\n",
    "medium_routes = len([k for k in route_lengths if k < 10000 and k > 2000]) / len(route_lengths)\n",
    "short_routes = len([k for k in route_lengths if k < 2000]) / len(route_lengths)\n",
    "\n",
    "print route_lengths[0:5]"
   ]
  },
  {
   "cell_type": "code",
   "execution_count": 1,
   "metadata": {},
   "outputs": [],
   "source": [
    "# Using Matplotlib to generate a histogram\n",
    "\n",
    "#plt.hist(route_lengths, bins=20)"
   ]
  },
  {
   "cell_type": "code",
   "execution_count": 2,
   "metadata": {},
   "outputs": [],
   "source": [
    "# Sorted bar chart of route lengths\n",
    "\n",
    "#mp.pyplot.bar(range(airline_route_lengths.shape[0]), airline_route_lengths[\"length\"])"
   ]
  },
  {
   "cell_type": "code",
   "execution_count": 16,
   "metadata": {},
   "outputs": [
    {
     "name": "stdout",
     "output_type": "stream",
     "text": [
      "   airline airline_id source source_id dest dest_id codeshare stops  equipment\n",
      "0       3G        595    LOS       273  ROB    1063       NaN     0      319^M\n",
      "1       3G        595    OXB      5665  CKY    4162       NaN     0      319^M\n",
      "2       3G        595    OXB      5665  DKR    1084       NaN     0      319^M\n",
      "3       3G        595    ROB      1063  ACC     248       NaN     0      319^M\n",
      "4       3G        595    ROB      1063  FNA    1059       NaN     0      319^M\n",
      "5       3G        595    ROB      1063  LOS     273       NaN     0      319^M\n",
      "6       3H         \\N    AKV      5506  YIK    5504       NaN     0      DH8^M\n",
      "7       3H         \\N    AKV      5506  YPX    6727       NaN     0      DH8^M\n",
      "8       3H         \\N    XGR      5512  YVP     154       NaN     0  DHT BET^M\n",
      "9       3H         \\N    YGL        62  YGW    5496       NaN     0      DHT^M\n",
      "10      3H         \\N    YGL        62  YPX    6727       NaN     0      73M^M\n",
      "--\n",
      "  airline airline_id source source_id dest dest_id codeshare stops equipment\n",
      "0      3G        595    LOS       273  ROB    1063       NaN     0     319^M\n",
      "1      3G        595    OXB      5665  CKY    4162       NaN     0     319^M\n",
      "2      3G        595    OXB      5665  DKR    1084       NaN     0     319^M\n",
      "3      3G        595    ROB      1063  ACC     248       NaN     0     319^M\n",
      "4      3G        595    ROB      1063  FNA    1059       NaN     0     319^M\n",
      "5      3G        595    ROB      1063  LOS     273       NaN     0     319^M\n"
     ]
    }
   ],
   "source": [
    "foo = pd.read_csv('./foo.dat', dtype=str)\n",
    "\n",
    "print foo\n",
    "print \"--\"\n",
    "\n",
    "foo = foo[foo[\"airline_id\"] != \"\\\\N\"]\n",
    "print foo"
   ]
  }
 ],
 "metadata": {
  "kernelspec": {
   "display_name": "Python 2",
   "language": "python",
   "name": "python2"
  },
  "language_info": {
   "codemirror_mode": {
    "name": "ipython",
    "version": 2
   },
   "file_extension": ".py",
   "mimetype": "text/x-python",
   "name": "python",
   "nbconvert_exporter": "python",
   "pygments_lexer": "ipython2",
   "version": "2.7.13"
  }
 },
 "nbformat": 4,
 "nbformat_minor": 2
}
