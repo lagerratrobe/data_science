{
 "cells": [
  {
   "cell_type": "markdown",
   "metadata": {},
   "source": [
    "# L01-2-ggplot\n",
    "\n",
    "## Assignment Instructions\n",
    "\n",
    "Rename with your name in place of Studentname and make your edits and updates here.\n",
    "\n",
    "If you need to start from scratch, use **Kernel** > **Restart & Clear Output**\n",
    "\n",
    "\n"
   ]
  },
  {
   "cell_type": "markdown",
   "metadata": {},
   "source": [
    "# Quickest Way to Scatterplot\n",
    "In this exercise, let's explore our first Jupyter notebook, this book you are looking at, and run the code blocks below to get our first scatter plot. \n",
    "\n",
    "There is only three lines of code and all you need to do is click to select each code block and then on the toolbar, click the Run triangle button. The output will be shown below the code block. Control + Enter is a keyboard shortcut for this that you are encouraged to try too. To use this keyboard shortcut, click the cell to select it. A green border appears around the cell block. Then hold down the control key and while it is still held down, press the Enter key. Let both keys go. No offense meant for all you keyboard shortcut folks out there. \n",
    "\n",
    "Repeat this for each of the three code blocks and notice the output of each. We will discuss what each of these functions do in more detail later. For now we will start simple with what is often referred to in the coding world as the \"Hello, World\" program for ggplot, meaning it is the simplest working program that we can build on to make more sophisticated ones.\n",
    "\n",
    "The data we will be using is built into R so we just need to reference it by name. It is mtcars which is the Motor Trend Car report data published in year 1973. We will be looking at how fuel economy or gas mileage is affected by the size of the engine based on the engine displacement variable.\n",
    "\n",
    "# R Features\n",
    "* library()\n",
    "* glimpse()\n",
    "* ggplot()\n",
    "* geom_point()\n",
    "\n",
    "# Datasets\n",
    "* mtcars"
   ]
  },
  {
   "cell_type": "code",
   "execution_count": null,
   "metadata": {},
   "outputs": [],
   "source": [
    "#library(tidyverse)"
   ]
  },
  {
   "cell_type": "code",
   "execution_count": null,
   "metadata": {
    "collapsed": true
   },
   "outputs": [],
   "source": [
    "#glimpse(mtcars)\n",
    "str(mtcars)"
   ]
  },
  {
   "cell_type": "code",
   "execution_count": null,
   "metadata": {
    "scrolled": false
   },
   "outputs": [],
   "source": [
    "ggplot(data = mtcars) + \n",
    "  geom_point(mapping = aes(x = disp, y = mpg))\n"
   ]
  },
  {
   "cell_type": "markdown",
   "metadata": {},
   "source": [
    "## Summary\n",
    "Notice the x - y scatter plot in the output above after you ran the code block. This is showing mpg (miles per gallon) on the y axis and disp (engine displacement size) on the x axis. Notice the relationship between them. What pattern do the points form?"
   ]
  }
 ],
 "metadata": {
  "kernelspec": {
   "display_name": "R",
   "language": "R",
   "name": "ir"
  },
  "language_info": {
   "codemirror_mode": "r",
   "file_extension": ".r",
   "mimetype": "text/x-r-source",
   "name": "R",
   "pygments_lexer": "r",
   "version": "3.4.1"
  }
 },
 "nbformat": 4,
 "nbformat_minor": 1
}
